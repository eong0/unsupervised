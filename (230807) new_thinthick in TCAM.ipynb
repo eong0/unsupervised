{
 "cells": [
  {
   "cell_type": "code",
   "execution_count": 1,
   "id": "29a09338",
   "metadata": {
    "ExecuteTime": {
     "end_time": "2023-04-11T07:16:01.834996Z",
     "start_time": "2023-04-11T07:16:01.832313Z"
    }
   },
   "outputs": [
    {
     "name": "stdout",
     "output_type": "stream",
     "text": [
      "2400\n"
     ]
    }
   ],
   "source": [
    "import os\n",
    "print(os.getpid())"
   ]
  },
  {
   "cell_type": "code",
   "execution_count": 2,
   "id": "3f97eab2",
   "metadata": {
    "ExecuteTime": {
     "end_time": "2023-04-11T07:18:00.712604Z",
     "start_time": "2023-04-11T07:16:10.750433Z"
    }
   },
   "outputs": [
    {
     "data": {
      "text/plain": [
       "'\\n###################데이터 나누기 \\ntrain = [[],[],[],[],[],[],[],[],[],[]]\\nfor k in range(train_images.shape[0]):\\n  if train_labels[k] ==0:\\n    train[0].append(train_images[k])\\n  elif train_labels[k] ==1:\\n    train[1].append(train_images[k])\\n  elif train_labels[k] ==2:\\n    train[2].append(train_images[k])\\n  elif train_labels[k] ==3:\\n    train[3].append(train_images[k])\\n  elif train_labels[k] ==4:\\n    train[4].append(train_images[k])\\n  elif train_labels[k] ==5:\\n    train[5].append(train_images[k])\\n  elif train_labels[k] ==6:\\n    train[6].append(train_images[k])\\n  elif train_labels[k] ==7:\\n    train[7].append(train_images[k])\\n  elif train_labels[k] ==8:\\n    train[8].append(train_images[k])\\n  elif train_labels[k] ==9:\\n    train[9].append(train_images[k])\\n  else:\\n    train_images[k] = train_images[k]\\n'"
      ]
     },
     "execution_count": 2,
     "metadata": {},
     "output_type": "execute_result"
    }
   ],
   "source": [
    "from tensorflow import keras\n",
    "from matplotlib import pyplot as plt\n",
    "import numpy as np\n",
    "import tensorflow as tf\n",
    "#import cv2\n",
    "(train_images, train_labels),(test_images, test_labels)= keras.datasets.mnist.load_data() \n",
    "\n",
    "image_size = 27\n",
    "train_images = np.expand_dims(train_images, axis = -1)\n",
    "train_images = tf.image.resize(train_images,[image_size,image_size])\n",
    "train_images = np.squeeze(train_images)\n",
    "train_images = train_images/255.0\n",
    "\n",
    "test_images = np.expand_dims(test_images, axis = -1)\n",
    "test_images = tf.image.resize(test_images,[image_size,image_size])\n",
    "test_images = np.squeeze(test_images)\n",
    "test_images= test_images/255.0\n",
    "#이미지 resize\n",
    "\n",
    "for k in range(train_images.shape[0]):\n",
    "  for i in range(image_size):\n",
    "    for j in range(image_size):\n",
    "      if train_images[k,i,j] <0.5:\n",
    "        train_images[k, i, j] = 0\n",
    "      else :\n",
    "        train_images[k, i,j] = 1\n",
    "\n",
    "for k in range(test_images.shape[0]) :\n",
    "  for i in range(image_size):\n",
    "    for j in range(image_size):\n",
    "      if test_images[k, i,j] <0.5:\n",
    "        test_images[k, i, j] = 0\n",
    "      else :\n",
    "        test_images[k, i,j] = 1\n",
    "# 0 0.5 1 셋 중 하나의 값으로 바꿔줌\n",
    "\n",
    "'''\n",
    "###################데이터 나누기 \n",
    "train = [[],[],[],[],[],[],[],[],[],[]]\n",
    "for k in range(train_images.shape[0]):\n",
    "  if train_labels[k] ==0:\n",
    "    train[0].append(train_images[k])\n",
    "  elif train_labels[k] ==1:\n",
    "    train[1].append(train_images[k])\n",
    "  elif train_labels[k] ==2:\n",
    "    train[2].append(train_images[k])\n",
    "  elif train_labels[k] ==3:\n",
    "    train[3].append(train_images[k])\n",
    "  elif train_labels[k] ==4:\n",
    "    train[4].append(train_images[k])\n",
    "  elif train_labels[k] ==5:\n",
    "    train[5].append(train_images[k])\n",
    "  elif train_labels[k] ==6:\n",
    "    train[6].append(train_images[k])\n",
    "  elif train_labels[k] ==7:\n",
    "    train[7].append(train_images[k])\n",
    "  elif train_labels[k] ==8:\n",
    "    train[8].append(train_images[k])\n",
    "  elif train_labels[k] ==9:\n",
    "    train[9].append(train_images[k])\n",
    "  else:\n",
    "    train_images[k] = train_images[k]\n",
    "'''"
   ]
  },
  {
   "attachments": {},
   "cell_type": "markdown",
   "id": "787f0d81",
   "metadata": {},
   "source": [
    "# Padding"
   ]
  },
  {
   "cell_type": "code",
   "execution_count": 3,
   "id": "860bdee7",
   "metadata": {
    "scrolled": true
   },
   "outputs": [
    {
     "name": "stdout",
     "output_type": "stream",
     "text": [
      "Original Train Image Shape: (60000, 27, 27)\n",
      "Padded Train Image Shape: (60000, 29, 29)\n"
     ]
    }
   ],
   "source": [
    "# zero padding 적용 함수\n",
    "def padding(images, padding_size):\n",
    "    num_images, old_height, old_width = images.shape\n",
    "    new_height, new_width = old_height + 2 * padding_size, old_width + 2 * padding_size\n",
    "    padded_images = np.zeros((num_images, new_height, new_width))\n",
    "    \n",
    "    for i in range(num_images):\n",
    "        padded_images[i, padding_size:new_height-padding_size, padding_size:new_width-padding_size] = images[i]\n",
    "    \n",
    "    return padded_images\n",
    "\n",
    "print(\"Original Train Image Shape:\", train_images.shape)\n",
    "\n",
    "\n",
    "# zero padding 적용\n",
    "padding_size = 1\n",
    "train_images = padding(train_images, padding_size)\n",
    "# test_images_padded = padding(test_images, padding_size)\n",
    "\n",
    "print(\"Padded Train Image Shape:\", train_images.shape)"
   ]
  },
  {
   "attachments": {},
   "cell_type": "markdown",
   "id": "29444473",
   "metadata": {},
   "source": [
    "# Thinning, Thickening\n",
    "    with 2*2 filter"
   ]
  },
  {
   "cell_type": "code",
   "execution_count": 4,
   "id": "55bb88fe",
   "metadata": {},
   "outputs": [],
   "source": [
    "# pattern\n",
    "thick_edge_pattern = []\n",
    "\n",
    "thick_edge_pattern.append([1,1,0,0])\n",
    "thick_edge_pattern.append([0,0,1,1])\n",
    "thick_edge_pattern.append([1,0,1,0])\n",
    "thick_edge_pattern.append([0,1,0,1])\n",
    "thick_edge_pattern.append([0,0,1,0])\n",
    "#thick_edge_pattern.append([0,1,0,0])\n",
    "#thick_edge_pattern.append([1,0,0,0])\n",
    "thick_edge_pattern.append([0,0,0,1])"
   ]
  },
  {
   "cell_type": "code",
   "execution_count": 5,
   "id": "ff2cbde4",
   "metadata": {},
   "outputs": [],
   "source": [
    "# pattern\n",
    "thin_edge_pattern = []\n",
    "\n",
    "thin_edge_pattern.append([1,1,0,0])\n",
    "#thin_edge_pattern.append([0,0,1,1])\n",
    "thin_edge_pattern.append([1,0,1,0])\n",
    "#thin_edge_pattern.append([0,1,0,1])\n",
    "thin_edge_pattern.append([0,0,1,0])\n",
    "#thin_edge_pattern.append([0,1,0,0])\n",
    "#thin_edge_pattern.append([1,0,0,0])\n",
    "thin_edge_pattern.append([0,0,0,1])"
   ]
  },
  {
   "cell_type": "code",
   "execution_count": 6,
   "id": "59387d65",
   "metadata": {},
   "outputs": [
    {
     "name": "stdout",
     "output_type": "stream",
     "text": [
      "[[1, 1, 0, 0], [0, 0, 1, 1], [1, 0, 1, 0], [0, 1, 0, 1], [0, 0, 1, 0], [0, 0, 0, 1]]\n",
      "[[1, 1, 0, 0], [1, 0, 1, 0], [0, 0, 1, 0], [0, 0, 0, 1]]\n"
     ]
    }
   ],
   "source": [
    "print(thick_edge_pattern)\n",
    "print(thin_edge_pattern)"
   ]
  },
  {
   "cell_type": "code",
   "execution_count": 7,
   "id": "48f87e76",
   "metadata": {},
   "outputs": [],
   "source": [
    "def thickening(image):\n",
    "    thick_img = []\n",
    "    thick_img = [[0] * 27 for _ in range(27)]\n",
    "    \n",
    "    for i in range(27):\n",
    "        for j in range(27):\n",
    "            pattern1 = [(image[i][j]), (image[i][j+1]),\n",
    "                        (image[i+1][j]), (image[i+1][j+1])]\n",
    "            pattern2 = [(image[i][j+1]), (image[i][j+2]),\n",
    "                        (image[i+1][j+1]), (image[i+1][j+2])]\n",
    "            pattern3 = [(image[i+1][j]), (image[i+1][j+1]),\n",
    "                        (image[i+2][j]), (image[i+2][j+1])]\n",
    "            pattern4 = [(image[i+1][j+1]), (image[i+1][j+2]),\n",
    "                        (image[i+2][j+1]), (image[i+2][j+2])]\n",
    "            \n",
    "            for x in thick_edge_pattern:\n",
    "                if (pattern1 == x):\n",
    "                    thick_img[i][j] = 1\n",
    "                    break\n",
    "                elif (pattern2 == x):\n",
    "                    thick_img[i][j] = 1\n",
    "                    break\n",
    "                elif (pattern3 == x):\n",
    "                    thick_img[i][j] = 1\n",
    "                    break\n",
    "                elif (pattern4 == x):\n",
    "                    thick_img[i][j] = 1\n",
    "                    break\n",
    "                elif (x==[0,0,0,1]):\n",
    "                    thick_img[i][j] = image[i+1][j+1]\n",
    "            \n",
    "    return thick_img"
   ]
  },
  {
   "cell_type": "code",
   "execution_count": 8,
   "id": "ae5e2c8d",
   "metadata": {},
   "outputs": [],
   "source": [
    "def thinning(image):\n",
    "    thinned_img = []\n",
    "    thinned_img = [[0] * 27 for _ in range(27)]\n",
    "    \n",
    "    for i in range(27):\n",
    "        for j in range(27):\n",
    "            pattern1 = [(image[i][j]), (image[i][j+1]),\n",
    "                        (image[i+1][j]), (image[i+1][j+1])]\n",
    "            pattern2 = [(image[i][j+1]), (image[i][j+2]),\n",
    "                        (image[i+1][j+1]), (image[i+1][j+2])]\n",
    "            pattern3 = [(image[i+1][j]), (image[i+1][j+1]),\n",
    "                        (image[i+2][j]), (image[i+2][j+1])]\n",
    "            pattern4 = [(image[i+1][j+1]), (image[i+1][j+2]),\n",
    "                        (image[i+2][j+1]), (image[i+2][j+2])]\n",
    "            \n",
    "            for x in thin_edge_pattern:\n",
    "                if (pattern1 == x):\n",
    "                    thinned_img[i][j] = 0\n",
    "                    break\n",
    "                elif (pattern2 == x):\n",
    "                    thinned_img[i][j] = 0\n",
    "                    break\n",
    "                elif (pattern3 == x):\n",
    "                    thinned_img[i][j] = 0\n",
    "                    break\n",
    "                elif (pattern4 == x):\n",
    "                    thinned_img[i][j] = 0\n",
    "                    break\n",
    "                elif (x==[0,0,0,1]):\n",
    "                    thinned_img[i][j] = image[i+1][j+1]\n",
    "            \n",
    "    return thinned_img"
   ]
  },
  {
   "cell_type": "code",
   "execution_count": 21,
   "id": "ddf640b2",
   "metadata": {},
   "outputs": [
    {
     "data": {
      "text/plain": [
       "Text(0.5, 1.0, 'thickening')"
      ]
     },
     "execution_count": 21,
     "metadata": {},
     "output_type": "execute_result"
    },
    {
     "data": {
      "image/png": "[encoded data removed]",
      "text/plain": [
       "<Figure size 600x300 with 2 Axes>"
      ]
     },
     "metadata": {},
     "output_type": "display_data"
    }
   ],
   "source": [
    "data = train_images[101]\n",
    "thick = thickening(data)\n",
    "\n",
    "f, (a1, a2) = plt.subplots(1, 2, figsize=(6, 3))\n",
    "a1.imshow(data)\n",
    "a1.set_title(\"Original\")\n",
    "a2.imshow(thick)\n",
    "a2.set_title(\"thickening\")"
   ]
  },
  {
   "cell_type": "code",
   "execution_count": 24,
   "id": "67afd897",
   "metadata": {},
   "outputs": [
    {
     "data": {
      "text/plain": [
       "Text(0.5, 1.0, 'thinning')"
      ]
     },
     "execution_count": 24,
     "metadata": {},
     "output_type": "execute_result"
    },
    {
     "data": {
      "image/png": "[encoded data removed]",
      "text/plain": [
       "<Figure size 600x300 with 2 Axes>"
      ]
     },
     "metadata": {},
     "output_type": "display_data"
    }
   ],
   "source": [
    "data = train_images[1]\n",
    "thin = thinning(data)\n",
    "\n",
    "f, (a1, a2) = plt.subplots(1, 2, figsize=(6, 3))\n",
    "a1.imshow(data)\n",
    "a1.set_title(\"Original\")\n",
    "a2.imshow(thin)\n",
    "a2.set_title(\"thinning\")"
   ]
  },
  {
   "attachments": {},
   "cell_type": "markdown",
   "id": "6bd44219",
   "metadata": {},
   "source": [
    "# Match"
   ]
  },
  {
   "cell_type": "code",
   "execution_count": 11,
   "id": "b209519a",
   "metadata": {},
   "outputs": [],
   "source": [
    "def Thick_TCAM(BLA,BLB,CLA,CLB):\n",
    "\n",
    "  ML = 0\n",
    "  cnt = 0\n",
    "  \n",
    "  for i in range(len(BLA)):\n",
    "    for j in range(len(BLA[i])):\n",
    "      if(CLA[i][j] == BLA[i][j]):\n",
    "        if(CLB[i][j] == BLB[i][j]):\n",
    "          cnt = cnt + 1\n",
    "      elif(CLA[i][j] == 0):\n",
    "        cnt = cnt +1\n",
    "\n",
    "      else:\n",
    "        cnt = cnt\n",
    "\n",
    "  if(cnt == 729):\n",
    "    ML = 1\n",
    "    print(\"Match\")\n",
    "    \n",
    "  elif(ML == 0):\n",
    "    print(\"No Match\")\n",
    "\n",
    "  \n",
    "  return ML"
   ]
  },
  {
   "cell_type": "code",
   "execution_count": 12,
   "id": "4be12b6e",
   "metadata": {},
   "outputs": [],
   "source": [
    "def rev(pattern):\n",
    "  new=[]\n",
    "  for i in range(len(pattern)):\n",
    "    if(pattern[i] == 1):\n",
    "      new.append(0)\n",
    "    else:\n",
    "      new.append(1)\n",
    "  \n",
    "  return new"
   ]
  },
  {
   "cell_type": "code",
   "execution_count": 25,
   "id": "e251fd7e",
   "metadata": {},
   "outputs": [
    {
     "name": "stdout",
     "output_type": "stream",
     "text": [
      "No Match\n"
     ]
    },
    {
     "data": {
      "text/plain": [
       "0"
      ]
     },
     "execution_count": 25,
     "metadata": {},
     "output_type": "execute_result"
    }
   ],
   "source": [
    "thick_rev = []\n",
    "for i in range(len(thick)):\n",
    "    thick_rev.append(rev(thick[i]))\n",
    "\n",
    "thin_rev = []\n",
    "for i in range(len(thin)):\n",
    "    thin_rev.append(rev(thin[i]))\n",
    "\n",
    "Thick_TCAM(thick, thick_rev, thin, thin_rev)"
   ]
  },
  {
   "cell_type": "code",
   "execution_count": null,
   "id": "99a94ad7",
   "metadata": {},
   "outputs": [],
   "source": []
  }
 ],
 "metadata": {
  "kernelspec": {
   "display_name": "PyTorch 1.14 (NGC 22.12/Python 3.8) on Backend.AI",
   "language": "python",
   "name": "python3"
  },
  "language_info": {
   "codemirror_mode": {
    "name": "ipython",
    "version": 3
   },
   "file_extension": ".py",
   "mimetype": "text/x-python",
   "name": "python",
   "nbconvert_exporter": "python",
   "pygments_lexer": "ipython3",
   "version": "3.9.6"
  },
  "toc": {
   "base_numbering": 1,
   "nav_menu": {},
   "number_sections": true,
   "sideBar": true,
   "skip_h1_title": false,
   "title_cell": "Table of Contents",
   "title_sidebar": "Contents",
   "toc_cell": false,
   "toc_position": {},
   "toc_section_display": true,
   "toc_window_display": false
  },
  "varInspector": {
   "cols": {
    "lenName": 16,
    "lenType": 16,
    "lenVar": 40
   },
   "kernels_config": {
    "python": {
     "delete_cmd_postfix": "",
     "delete_cmd_prefix": "del ",
     "library": "var_list.py",
     "varRefreshCmd": "print(var_dic_list())"
    },
    "r": {
     "delete_cmd_postfix": ") ",
     "delete_cmd_prefix": "rm(",
     "library": "var_list.r",
     "varRefreshCmd": "cat(var_dic_list()) "
    }
   },
   "types_to_exclude": [
    "module",
    "function",
    "builtin_function_or_method",
    "instance",
    "_Feature"
   ],
   "window_display": false
  }
 },
 "nbformat": 4,
 "nbformat_minor": 5
}
