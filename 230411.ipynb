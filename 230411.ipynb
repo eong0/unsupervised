{
 "cells": [
  {
   "cell_type": "code",
   "execution_count": 1,
   "id": "379b3a69",
   "metadata": {
    "ExecuteTime": {
     "end_time": "2023-04-11T06:10:20.822348Z",
     "start_time": "2023-04-11T06:08:29.768275Z"
    }
   },
   "outputs": [
    {
     "name": "stderr",
     "output_type": "stream",
     "text": [
      "2023-04-11 15:08:29.793800: I tensorflow/core/platform/cpu_feature_guard.cc:193] This TensorFlow binary is optimized with oneAPI Deep Neural Network Library (oneDNN) to use the following CPU instructions in performance-critical operations:  AVX2 AVX512F AVX512_VNNI FMA\n",
      "To enable them in other operations, rebuild TensorFlow with the appropriate compiler flags.\n",
      "2023-04-11 15:08:29.932094: I tensorflow/core/util/port.cc:104] oneDNN custom operations are on. You may see slightly different numerical results due to floating-point round-off errors from different computation orders. To turn them off, set the environment variable `TF_ENABLE_ONEDNN_OPTS=0`.\n",
      "2023-04-11 15:08:30.546377: W tensorflow/compiler/xla/stream_executor/platform/default/dso_loader.cc:64] Could not load dynamic library 'libnvinfer.so.7'; dlerror: libnvinfer.so.7: cannot open shared object file: No such file or directory; LD_LIBRARY_PATH: /usr/local/cuda/lib64:\n",
      "2023-04-11 15:08:30.546456: W tensorflow/compiler/xla/stream_executor/platform/default/dso_loader.cc:64] Could not load dynamic library 'libnvinfer_plugin.so.7'; dlerror: libnvinfer_plugin.so.7: cannot open shared object file: No such file or directory; LD_LIBRARY_PATH: /usr/local/cuda/lib64:\n",
      "2023-04-11 15:08:30.546463: W tensorflow/compiler/tf2tensorrt/utils/py_utils.cc:38] TF-TRT Warning: Cannot dlopen some TensorRT libraries. If you would like to use Nvidia GPU with TensorRT, please make sure the missing libraries mentioned above are installed properly.\n",
      "/home/neurochip3/anaconda3/lib/python3.9/site-packages/numpy/core/getlimits.py:499: UserWarning: The value of the smallest subnormal for <class 'numpy.float32'> type is zero.\n",
      "  setattr(self, word, getattr(machar, word).flat[0])\n",
      "/home/neurochip3/anaconda3/lib/python3.9/site-packages/numpy/core/getlimits.py:89: UserWarning: The value of the smallest subnormal for <class 'numpy.float32'> type is zero.\n",
      "  return self._float_to_str(self.smallest_subnormal)\n",
      "/home/neurochip3/anaconda3/lib/python3.9/site-packages/numpy/core/getlimits.py:499: UserWarning: The value of the smallest subnormal for <class 'numpy.float64'> type is zero.\n",
      "  setattr(self, word, getattr(machar, word).flat[0])\n",
      "/home/neurochip3/anaconda3/lib/python3.9/site-packages/numpy/core/getlimits.py:89: UserWarning: The value of the smallest subnormal for <class 'numpy.float64'> type is zero.\n",
      "  return self._float_to_str(self.smallest_subnormal)\n",
      "2023-04-11 15:08:32.137311: W tensorflow/compiler/xla/stream_executor/platform/default/dso_loader.cc:64] Could not load dynamic library 'libcudnn.so.8'; dlerror: libcudnn.so.8: cannot open shared object file: No such file or directory; LD_LIBRARY_PATH: /usr/local/cuda/lib64:\n",
      "2023-04-11 15:08:32.137350: W tensorflow/core/common_runtime/gpu/gpu_device.cc:1934] Cannot dlopen some GPU libraries. Please make sure the missing libraries mentioned above are installed properly if you would like to use GPU. Follow the guide at https://www.tensorflow.org/install/gpu for how to download and setup the required libraries for your platform.\n",
      "Skipping registering GPU devices...\n",
      "2023-04-11 15:08:32.137692: I tensorflow/core/platform/cpu_feature_guard.cc:193] This TensorFlow binary is optimized with oneAPI Deep Neural Network Library (oneDNN) to use the following CPU instructions in performance-critical operations:  AVX2 AVX512F AVX512_VNNI FMA\n",
      "To enable them in other operations, rebuild TensorFlow with the appropriate compiler flags.\n"
     ]
    }
   ],
   "source": [
    "from tensorflow import keras\n",
    "from matplotlib import pyplot as plt\n",
    "import numpy as np\n",
    "import tensorflow as tf\n",
    "\n",
    "(train_images, train_labels),(test_images, test_labels)= keras.datasets.mnist.load_data() \n",
    "\n",
    "image_size = 27\n",
    "train_images = np.expand_dims(train_images, axis = -1)\n",
    "train_images = tf.image.resize(train_images,[image_size,image_size])\n",
    "train_images = np.squeeze(train_images)\n",
    "train_images= train_images/255.0\n",
    "\n",
    "test_images = np.expand_dims(test_images, axis = -1)\n",
    "test_images = tf.image.resize(test_images,[image_size,image_size])\n",
    "test_images = np.squeeze(test_images)\n",
    "test_images= test_images/255.0\n",
    "\n",
    "for k in range(int(train_images.shape[0])) :\n",
    "      for i in range(image_size):\n",
    "            for j in range(image_size):\n",
    "                if train_images[k, i,j] <0.3:\n",
    "                    train_images[k, i, j] = 0\n",
    "                elif train_images[k, i,j] <0.7:\n",
    "                    train_images[k, i,j] = 0.5\n",
    "                else :\n",
    "                    train_images[k, i,j] = 1\n",
    "\n",
    "for k in range(int(test_images.shape[0])) :\n",
    "  for i in range(image_size):\n",
    "    for j in range(image_size):\n",
    "      if test_images[k, i,j] <0.3:\n",
    "        test_images[k, i, j] = 0\n",
    "      elif test_images[k, i,j] <0.7:\n",
    "        test_images[k, i,j] = 0.5\n",
    "      else :\n",
    "        test_images[k, i,j] = 1\n",
    "\n",
    "train = [[],[],[],[],[],[],[],[],[],[]]\n",
    "for k in range(train_images.shape[0]):\n",
    "  if train_labels[k] ==0:\n",
    "    train[0].append(train_images[k])\n",
    "  elif train_labels[k] ==1:\n",
    "    train[1].append(train_images[k])\n",
    "  elif train_labels[k] ==2:\n",
    "    train[2].append(train_images[k])\n",
    "  elif train_labels[k] ==3:\n",
    "    train[3].append(train_images[k])\n",
    "  elif train_labels[k] ==4:\n",
    "    train[4].append(train_images[k])\n",
    "  elif train_labels[k] ==5:\n",
    "    train[5].append(train_images[k])\n",
    "  elif train_labels[k] ==6:\n",
    "    train[6].append(train_images[k])\n",
    "  elif train_labels[k] ==7:\n",
    "    train[7].append(train_images[k])\n",
    "  elif train_labels[k] ==8:\n",
    "    train[8].append(train_images[k])\n",
    "  elif train_labels[k] ==9:\n",
    "    train[9].append(train_images[k])\n",
    "  else:\n",
    "    train_images[k] = train_images[k]"
   ]
  },
  {
   "cell_type": "code",
   "execution_count": 2,
   "id": "076c98bc",
   "metadata": {
    "ExecuteTime": {
     "end_time": "2023-04-11T06:10:20.829932Z",
     "start_time": "2023-04-11T06:10:20.824213Z"
    }
   },
   "outputs": [],
   "source": [
    "#6개 edge 선언\n",
    "filters = [[],[],[],[],[],[]]\n",
    "filters[0] = [[1,2,1],[0,0,0],[-1,-2,-1]]#0\n",
    "filters[1] = [[0,1,3],[0,0,0],[-3,-1,0]] #30\n",
    "filters[2] = [[0,0,3],[-1,0,1],[-3,0,0]] #60\n",
    "filters[3] = [[-1,0,1],[-2,0,2],[-1,0,1]]#90\n",
    "filters[4] = [[-3,0,0],[-1,0,1],[0,0,3]] #120\n",
    "filters[5] = [[-3,-1,0],[0,0,0],[0,1,3]] #150"
   ]
  },
  {
   "cell_type": "code",
   "execution_count": 3,
   "id": "81f13e12",
   "metadata": {
    "ExecuteTime": {
     "end_time": "2023-04-11T06:10:20.838490Z",
     "start_time": "2023-04-11T06:10:20.831091Z"
    }
   },
   "outputs": [],
   "source": [
    "def flattening(image,filter):\n",
    "  edge_sum = [[0]*(9) for _ in range(9)]\n",
    "  flat_result_sum=[[0] for _ in range(81)]\n",
    "  for i in range(0, image.shape[0]-2, 3):\n",
    "    for j in range(0, image.shape[1]-2, 3):\n",
    "      image_patch = image[i:i+3, j:j+3]\n",
    "      edge_sum[int(i/3)][int(j/3)]=np.sum(np.multiply(image_patch,filter))\n",
    "  \n",
    "  flat_result_sum=[element for row in edge_sum for element in row]\n",
    "  return flat_result_sum"
   ]
  },
  {
   "cell_type": "code",
   "execution_count": 4,
   "id": "29b375ad",
   "metadata": {
    "ExecuteTime": {
     "end_time": "2023-04-11T06:10:20.846856Z",
     "start_time": "2023-04-11T06:10:20.839627Z"
    }
   },
   "outputs": [],
   "source": [
    "flat_result_sum=[[],[],[],[],[],[]]\n",
    "for i in range(6):\n",
    "  flat_result_sum[i] = flattening(train_images[0],filters[i])"
   ]
  },
  {
   "cell_type": "code",
   "execution_count": 5,
   "id": "aa462c7e",
   "metadata": {
    "ExecuteTime": {
     "end_time": "2023-04-11T06:10:20.854927Z",
     "start_time": "2023-04-11T06:10:20.848681Z"
    }
   },
   "outputs": [],
   "source": [
    "def edge_pattern(flattened_sum):\n",
    "  \n",
    "  temp = []\n",
    "  max_index=[[0] for _ in range(81)]\n",
    "  edge_pattern=[[0] for _ in range(80)]\n",
    "  \n",
    "    \n",
    "  for i in range(81):\n",
    "    temp.clear()\n",
    "    for j in range(6):\n",
    "      temp.append(flattened_sum[j][i])\n",
    "\n",
    "    if(max(temp)==0):\n",
    "      max_index[i] = 20\n",
    "    elif(max(temp)==temp[0]):\n",
    "      max_index[i] = 0\n",
    "    elif(max(temp)==temp[1]):\n",
    "      max_index[i] = 1\n",
    "    elif(max(temp)==temp[2]):\n",
    "      max_index[i] = 2\n",
    "    elif(max(temp)==temp[3]):\n",
    "      max_index[i] = 3\n",
    "    elif(max(temp)==temp[4]):\n",
    "      max_index[i] = 4\n",
    "    elif(max(temp)==temp[5]):\n",
    "      max_index[i] = 5\n",
    "    else:\n",
    "      max_index[i] = 20\n",
    "      \n",
    "  for i in range(80):\n",
    "    if(max_index[i]==20):\n",
    "      if(max_index[i+1]==20):\n",
    "        edge_pattern[i]=0\n",
    "      else:\n",
    "        #edge_pattern[i]=5\n",
    "        edge_pattern[i]=max_index[i+1]\n",
    "    elif(max_index[i+1]==20):\n",
    "      #edge_pattern[i]=5\n",
    "      edge_pattern[i]=max_index[i]\n",
    "    else:\n",
    "      edge_pattern[i] = max_index[i]-max_index[i+1]\n",
    "        \n",
    "  return edge_pattern"
   ]
  },
  {
   "cell_type": "code",
   "execution_count": 6,
   "id": "0aef16f8",
   "metadata": {
    "ExecuteTime": {
     "end_time": "2023-04-11T06:10:20.860419Z",
     "start_time": "2023-04-11T06:10:20.856048Z"
    }
   },
   "outputs": [],
   "source": [
    "def dtw_distance(signal1, signal2):\n",
    "    # 시계열 데이터의 길이를 저장합니다.\n",
    "    n, m = len(signal1), len(signal2)\n",
    "    \n",
    "    # DTW 행렬을 생성합니다.\n",
    "    dtw = np.zeros((n+1, m+1))\n",
    "    for i in range(1, n+1):\n",
    "        dtw[i][0] = np.inf\n",
    "    for i in range(1, m+1):\n",
    "        dtw[0][i] = np.inf\n",
    "    dtw[0][0] = 0\n",
    "    \n",
    "    # DTW 행렬을 계산합니다.\n",
    "    for i in range(1, n+1):\n",
    "        for j in range(1, m+1):\n",
    "            cost = abs(signal1[i-1] - signal2[j-1])\n",
    "            dtw[i][j] = cost + min(dtw[i-1][j], dtw[i][j-1], dtw[i-1][j-1])\n",
    "    \n",
    "    # 최종적인 DTW 거리를 반환합니다.\n",
    "    return dtw[-1][-1]"
   ]
  },
  {
   "cell_type": "code",
   "execution_count": 7,
   "id": "93ee9884",
   "metadata": {
    "ExecuteTime": {
     "end_time": "2023-04-11T06:10:20.869415Z",
     "start_time": "2023-04-11T06:10:20.861534Z"
    }
   },
   "outputs": [],
   "source": [
    "import time\n",
    "from tqdm import tqdm\n",
    "import pandas as pd"
   ]
  },
  {
   "cell_type": "code",
   "execution_count": 8,
   "id": "f38fff11",
   "metadata": {
    "ExecuteTime": {
     "end_time": "2023-04-11T06:11:06.264965Z",
     "start_time": "2023-04-11T06:10:20.870538Z"
    }
   },
   "outputs": [
    {
     "name": "stderr",
     "output_type": "stream",
     "text": [
      "100%|██████████| 10000/10000 [00:45<00:00, 220.32it/s]\n"
     ]
    }
   ],
   "source": [
    "# test_images 를 모두 1차원 벡터화한다. \n",
    "#train_images_flat = [[] for _ in range(10)]\n",
    "train_images_flat = []\n",
    "temp_1 = [[],[],[],[],[],[]]\n",
    "temp_2 = [[] for _ in range(80)]\n",
    "\n",
    "#for k in tqdm(range(10)):\n",
    "for i in tqdm(range(10000)):\n",
    "  for j in range(6):\n",
    "    temp_1[j] = flattening(test_images[i],filters[j])\n",
    "  temp_2 = edge_pattern(temp_1)\n",
    "  train_images_flat.append(temp_2)\n",
    "\n",
    "# 1. train 이미지를 0부터 9까지 101개씩 평면화하기.\n",
    "# 2. 0번 이미지 와 나머지 1~100번 이미지 까지 DTW 구해서 평균값을 구해서 표로 만들기 "
   ]
  },
  {
   "cell_type": "code",
   "execution_count": 9,
   "id": "f1087e75",
   "metadata": {
    "ExecuteTime": {
     "end_time": "2023-04-11T06:11:06.268874Z",
     "start_time": "2023-04-11T06:11:06.266337Z"
    }
   },
   "outputs": [
    {
     "name": "stdout",
     "output_type": "stream",
     "text": [
      "[0, 0, 0, 0, 0, 0, 0, 0, 0, 0, 0, 5, 5, 0, 0, 0, 0, 0, 0, 0, 5, 5, 0, 5, 5, 0, 0, 0, 4, 4, 0, 4, 4, 0, 0, 0, 0, 2, 2, 0, 2, 2, 0, 0, 0, 0, 1, -4, 0, 4, 1, 0, 0, 0, 0, 0, 0, 0, 2, 2, 0, 0, 0, 0, 0, 0, 0, 0, 0, 0, 0, 0, 0, 0, 0, 0, 0, 0, 0, 0]\n"
     ]
    }
   ],
   "source": [
    "print(train_images_flat[4])"
   ]
  },
  {
   "cell_type": "code",
   "execution_count": 10,
   "id": "173f0879",
   "metadata": {
    "ExecuteTime": {
     "end_time": "2023-04-11T06:11:06.286399Z",
     "start_time": "2023-04-11T06:11:06.270229Z"
    }
   },
   "outputs": [],
   "source": [
    "from random import *\n",
    "class chip_random:\n",
    "    def __init__(self, size, threshold1 = 0.9, threshold2 = 0.95):\n",
    "        '''\n",
    "        size = memory input size \n",
    "        threshold1 = don't care  역치 //  0.9\n",
    "        threshold2 = 1 역치 // 0.95\n",
    "        '''\n",
    "        self.size = size\n",
    "        self.threshold1 = threshold1\n",
    "        self.threshold2 = threshold2\n",
    "        self.cam = []\n",
    "        self.counter = []\n",
    "\n",
    "        for i in range(2**size-1):\n",
    "            a = randint(1,2**size-1)\n",
    "            while a in self.cam:\n",
    "                a = randint(1,2**size-1)\n",
    "            self.cam.append(a)\n",
    "            self.counter.append(0)\n",
    "\n",
    "    def reset(self):\n",
    "        self.cam = []\n",
    "        self.counter = []\n",
    "\n",
    "        for i in range(2**self.size-1):\n",
    "            a = randint(1,2**self.size-1)\n",
    "            while a in self.cam:\n",
    "                a = randint(1,2**self.size-1)\n",
    "            self.cam.append(a)\n",
    "            self.counter.append(0)\n",
    "\n",
    "    def pattern_to_number(self, pattern):\n",
    "        num = 0\n",
    "        result = []\n",
    "        for i in range(len(pattern)):\n",
    "            if pattern[i]==1:\n",
    "                num = num + 2**(len(pattern)-1-i)\n",
    "        result.append(num)\n",
    "        for i in range(len(pattern)):\n",
    "            if pattern[i]==0.5:\n",
    "                for k in range(len(result)):\n",
    "                    result.append(result[k]+2**(len(pattern)-1-i))\n",
    "    \n",
    "        return result\n",
    "\n",
    "    def change_threshold(self, threshold1, threshold2):\n",
    "        self.threshold1 = threshold1\n",
    "        self.threshold2 = threshold2\n",
    "\n",
    "    def learn(self, pattern):\n",
    "        num = self.pattern_to_number(pattern)\n",
    "        for i in range(len(self.cam)):\n",
    "            if num.count(self.cam[i])!=0:\n",
    "                self.counter[i] = self.counter[i] +1\n",
    "\n",
    "        for i in range(len(num)):\n",
    "            for j in range(len(self.cam)-1):\n",
    "                if self.counter[j] > self.counter[j+1]:\n",
    "                    temp =self.counter[j]\n",
    "                    self.counter[j] = self.counter[j+1]\n",
    "                    self.counter[j+1] = temp\n",
    "                    temp =self.cam[j]\n",
    "                    self.cam[j] = self.cam[j+1]\n",
    "                    self.cam[j+1] = temp\n",
    "    \n",
    "    def address_up(self, pattern):\n",
    "        num = self.pattern_to_number(pattern)\n",
    "        for i in range(len(self.cam)-2,0,-1):\n",
    "            if self.cam[i] in num:\n",
    "                temp = self.cam[i]\n",
    "                self.cam[i] = self.cam[i+1]\n",
    "                self.cam[i+1] = temp\n",
    "\n",
    "    def address_down(self, pattern):\n",
    "        num = self.pattern_to_number(pattern)\n",
    "        for i in range(len(self.cam)-2):\n",
    "            if self.cam[i] in num:\n",
    "                temp = self.cam[i]\n",
    "                self.cam[i] = self.cam[i-1]\n",
    "                self.cam[i-1] = temp\n",
    "\n",
    "\n",
    "    def get_address(self, pattern):\n",
    "        num = self.pattern_to_number(pattern)\n",
    "        result = []\n",
    "        for i in range(len(num)):\n",
    "            if num[i] ==0:\n",
    "                result.append(0)\n",
    "            else :\n",
    "                result.append(self.cam.index(num[i]))\n",
    "        return result\n",
    "  \n",
    "    def get_binary(self, pattern):\n",
    "        result = self.get_address(pattern)\n",
    "        address = max(result)\n",
    "        percent = address/len(self.cam)\n",
    "\n",
    "        if percent < self.threshold1 :\n",
    "            return 0.0\n",
    "        elif percent <self.threshold2:\n",
    "            return 0.5\n",
    "        else:\n",
    "            return 1.0"
   ]
  },
  {
   "cell_type": "code",
   "execution_count": 11,
   "id": "bd4440bc",
   "metadata": {
    "ExecuteTime": {
     "end_time": "2023-04-11T06:11:06.307795Z",
     "start_time": "2023-04-11T06:11:06.287767Z"
    }
   },
   "outputs": [],
   "source": [
    "class layer_random:\n",
    "    def __init__(self, window_size, layer_size, stride = 0, threshold1 = 0.9, threshold2 = 0.95):\n",
    "        self.L = [[0]*layer_size for _ in range(layer_size)]\n",
    "        self.threshold1 = threshold1\n",
    "        self.threshold2 = threshold2\n",
    "        for i in range(layer_size):\n",
    "            for j in range(layer_size):\n",
    "                self.L[i][j] = chip_random(window_size*window_size, self.threshold1, self.threshold2)\n",
    "        \n",
    "        if stride ==0:\n",
    "            self.stride = window_size\n",
    "        else :\n",
    "            self.stride = stride\n",
    "        self.window_size = window_size\n",
    "        self.layer_size = layer_size\n",
    "\n",
    "    def reset(self):\n",
    "        '''\n",
    "        layer가 초기화됨 내부 chip의 배열도 초기화\n",
    "        '''\n",
    "        for i in range(self.layer_size):\n",
    "            for j in range(self.layer_size):\n",
    "                self.L[i][j].reset()\n",
    "\n",
    "    def change_threshold(self, threshold1, threshold2):\n",
    "        self.threshold1 = threshold1\n",
    "        self.threshold2 = threshold2\n",
    "        for i in range(self.layer_size):\n",
    "            for j in range(self.layer_size):\n",
    "                self.L[i][j].change_threshold(threshold1, threshold2)\n",
    "\n",
    "    def learn(self, image):\n",
    "        '''\n",
    "        이미지 하나를 layer가 입력받게 되는 함수\n",
    "        '''\n",
    "        # 학습 가능한 이미지 사이즈인지 확인하는 코드 추가 작성\n",
    "        for i in range(self.layer_size):\n",
    "            for j in range(self.layer_size):\n",
    "                pattern= []\n",
    "                for a in range(self.window_size):\n",
    "                    for b in range(self.window_size):\n",
    "                        pattern.append(image[self.stride*i+a][self.stride*j+b])\n",
    "                self.L[i][j].learn(pattern)\n",
    "    \n",
    "    def address_up(self, image):\n",
    "        '''\n",
    "        이미지 안에 있는 패턴을 주소 1 up\n",
    "        '''\n",
    "        for i in range(self.layer_size):\n",
    "            for j in range(self.layer_size):\n",
    "                pattern = []\n",
    "                for a in range(self.window_size):\n",
    "                    for b in range(self.window_size):\n",
    "                        pattern.append(image[self.stride*i+a][self.stride*j+b])\n",
    "                self.L[i][j].address_up(pattern)\n",
    "            \n",
    "    def address_down(self, image):\n",
    "        '''\n",
    "        이미지 안에 있는 패턴을 주소 1 up\n",
    "        '''\n",
    "        for i in range(self.layer_size):\n",
    "            for j in range(self.layer_size):\n",
    "                pattern = []\n",
    "                for a in range(self.window_size):\n",
    "                    for b in range(self.window_size):\n",
    "                        pattern.append(image[self.stride*i+a][self.stride*j+b])\n",
    "                self.L[i][j].address_down(pattern)\n",
    "    \n",
    "    def out(self, image):\n",
    "        '''\n",
    "        이미지 넣고 출력되는 layer out 보여줌\n",
    "        '''\n",
    "        # 입력 가능한 이미지 사이즈인지 확인하는 코드 추가 작성\n",
    "        out_image = [[0] * self.layer_size for _ in range(self.layer_size)]\n",
    "        for i in range(self.layer_size):\n",
    "            for j in range(self.layer_size):\n",
    "                pattern=[]\n",
    "                for a in range(self.window_size):\n",
    "                    for b in range(self.window_size):\n",
    "                        pattern.append(image[self.stride*i +a][self.stride*j +b])\n",
    "                out_image[i][j] = self.L[i][j].get_binary(pattern)\n",
    "        return out_image\n",
    "\n",
    "    def out_sum(self, image):\n",
    "        '''\n",
    "        이미지 넣고 출력되는 이미지의 전체 합 출력\n",
    "        '''\n",
    "        out_image = self.out(image)\n",
    "        result = 0\n",
    "        for i in range(self.layer_size):\n",
    "            for j in range(self.layer_size):\n",
    "                result = result + out_image[i][j]\n",
    "        return result\n",
    "    \n",
    "    def weighted_outsum (self, image):\n",
    "        out_image = self.out(image)\n",
    "        result = 0\n",
    "        weight1 = 0\n",
    "        weight2 = 0\n",
    "        for i in range(self.layer_size):\n",
    "            for j in range(self.layer_size):\n",
    "                if (i>self.layer_size/3)*(i<2*self.layer_size/3) : weight1 = 2\n",
    "                else : weight1 = 1\n",
    "\n",
    "                if(j>self.layer_size/3)*(j<2*self.layer_size/3) : weight2 = 2\n",
    "                else : weight2 = 1\n",
    "\n",
    "                result = result + weight1 * weight2 * out_image[i][j]\n",
    "        return result\n",
    "\n",
    "    def out_address(self,image):\n",
    "        '''\n",
    "        마지막 레이어의 주소를 반환\n",
    "        '''\n",
    "        out_image = [[0] * self.layer_size for _ in range(self.layer_size)]\n",
    "        for i in range(self.layer_size):\n",
    "            for j in range(self.layer_size):\n",
    "                pattern=[]\n",
    "                for a in range(self.window_size):\n",
    "                    for b in range(self.window_size):\n",
    "                        pattern.append(image[self.stride*i +a][self.stride*j +b])\n",
    "                out_image[i][j] = max(self.L[i][j].get_address(pattern))\n",
    "        return out_image\n",
    "\n",
    "    def get_avg_address(self,image):\n",
    "        \n",
    "        out_image = self.out_address(image)\n",
    "        sum = 0\n",
    "        for i in range (self.layer_size):\n",
    "            for j in range(self.layer_size):\n",
    "                sum = sum + out_image[i][j]\n",
    "\n",
    "        return sum/(self.layer_size*self.layer_size)\n",
    "    \n",
    "    def num_to_pattern(self, num):\n",
    "        temp = num\n",
    "        pattern = [0 for _ in range(self.window_size*self.window_size)]\n",
    "        for i in range(len(pattern)):\n",
    "            if(num%2) : pattern[i] = 1\n",
    "            else : pattern[i] = 0\n",
    "            num = num//2\n",
    "        pattern.reverse()\n",
    "        return pattern\n",
    "\n",
    "    def feature(self, depth):\n",
    "        out_image = [[0] * self.layer_size *self.window_size for _ in range(self.layer_size*self.window_size)]\n",
    "        pattern = []\n",
    "        for i in range(self.layer_size):\n",
    "            for j in range(self.layer_size):\n",
    "                for k in range(depth):\n",
    "                    pattern = self.num_to_pattern(self.L[i][j].cam[-1-k])\n",
    "                    for a in range(self.window_size):\n",
    "                        for b in range(self.window_size):\n",
    "                            out_image[self.window_size*i + a ][self.window_size*j + b ] += pattern[self.window_size*a + b ] * 2**(depth -k-1)\n",
    "        \n",
    "        return out_image\n",
    "\n",
    "    def out_size(self):\n",
    "        '''\n",
    "        N*N 출력 이미지에서 N이 나옴 \n",
    "        '''\n",
    "        return self.layer_size"
   ]
  },
  {
   "cell_type": "markdown",
   "id": "c836fc06",
   "metadata": {},
   "source": [
    "# LG"
   ]
  },
  {
   "cell_type": "code",
   "execution_count": 12,
   "id": "e7eb7e8a",
   "metadata": {
    "ExecuteTime": {
     "end_time": "2023-04-11T06:11:06.311910Z",
     "start_time": "2023-04-11T06:11:06.309050Z"
    }
   },
   "outputs": [
    {
     "name": "stdout",
     "output_type": "stream",
     "text": [
      "80\n"
     ]
    }
   ],
   "source": [
    "print(len(train_images_flat[5]))"
   ]
  },
  {
   "cell_type": "code",
   "execution_count": 13,
   "id": "88796990",
   "metadata": {
    "ExecuteTime": {
     "end_time": "2023-04-11T06:23:39.929018Z",
     "start_time": "2023-04-11T06:11:06.313181Z"
    }
   },
   "outputs": [
    {
     "name": "stderr",
     "output_type": "stream",
     "text": [
      "100%|██████████| 1000/1000 [00:00<00:00, 3454945.63it/s]\n",
      "100%|██████████| 1000/1000 [12:01<00:00,  1.39it/s]\n",
      "100%|██████████| 1000/1000 [00:00<00:00, 3412777.87it/s]\n",
      "100%|██████████| 1000/1000 [00:00<00:00, 3489437.60it/s]\n",
      "100%|██████████| 1000/1000 [00:31<00:00, 31.55it/s]\n"
     ]
    }
   ],
   "source": [
    "Layer_test = [0 for _ in tqdm(range(1000))]\n",
    "for i in tqdm(range(1000)):\n",
    "  Layer_test[i] = layer_random(3,9, stride= 0, threshold1 = 0.90, threshold2 = 0.96)\n",
    "\n",
    "counter = [0 for _ in tqdm(range(1000))]\n",
    "flat_last = [0 for _ in tqdm(range(1000))]\n",
    "#100개의 layer \n",
    "\n",
    "# 그중 100개미리 학습, 이때 각 러닝그룹당 flat 의 저장 공간 역시 존재해야 함\n",
    "for i in tqdm(range(1000)):\n",
    "  Layer_test[i].learn(test_images[i])\n",
    "  #counter[i] += 1\n",
    "  flat_last[i] = train_images_flat[i]  "
   ]
  },
  {
   "cell_type": "code",
   "execution_count": 15,
   "id": "c89fa602",
   "metadata": {
    "ExecuteTime": {
     "end_time": "2023-04-11T07:18:56.315923Z",
     "start_time": "2023-04-11T07:02:16.533226Z"
    }
   },
   "outputs": [
    {
     "name": "stderr",
     "output_type": "stream",
     "text": [
      "100%|██████████| 100/100 [00:00<00:00, 1451316.26it/s]\n",
      " 52%|█████▏    | 104/200 [16:39<15:22,  9.61s/it]\n"
     ]
    },
    {
     "ename": "KeyboardInterrupt",
     "evalue": "",
     "output_type": "error",
     "traceback": [
      "\u001b[0;31m---------------------------------------------------------------------------\u001b[0m",
      "\u001b[0;31mKeyboardInterrupt\u001b[0m                         Traceback (most recent call last)",
      "\u001b[0;32m/tmp/ipykernel_252875/321503020.py\u001b[0m in \u001b[0;36m<module>\u001b[0;34m\u001b[0m\n\u001b[1;32m      7\u001b[0m   \u001b[0;32mfor\u001b[0m \u001b[0mk\u001b[0m \u001b[0;32min\u001b[0m \u001b[0mrange\u001b[0m\u001b[0;34m(\u001b[0m\u001b[0;36m10\u001b[0m\u001b[0;34m)\u001b[0m\u001b[0;34m:\u001b[0m\u001b[0;34m\u001b[0m\u001b[0;34m\u001b[0m\u001b[0m\n\u001b[1;32m      8\u001b[0m     \u001b[0;32mfor\u001b[0m \u001b[0mj\u001b[0m \u001b[0;32min\u001b[0m \u001b[0mrange\u001b[0m\u001b[0;34m(\u001b[0m\u001b[0;36m100\u001b[0m\u001b[0;34m)\u001b[0m\u001b[0;34m:\u001b[0m\u001b[0;34m\u001b[0m\u001b[0;34m\u001b[0m\u001b[0m\n\u001b[0;32m----> 9\u001b[0;31m       \u001b[0mdtw_temp\u001b[0m\u001b[0;34m[\u001b[0m\u001b[0mj\u001b[0m\u001b[0;34m]\u001b[0m \u001b[0;34m=\u001b[0m \u001b[0mdtw_distance\u001b[0m\u001b[0;34m(\u001b[0m\u001b[0mflat_last\u001b[0m\u001b[0;34m[\u001b[0m\u001b[0mj\u001b[0m\u001b[0;34m]\u001b[0m\u001b[0;34m,\u001b[0m\u001b[0mtrain_images_flat\u001b[0m\u001b[0;34m[\u001b[0m\u001b[0mi\u001b[0m\u001b[0;34m+\u001b[0m\u001b[0;36m100\u001b[0m\u001b[0;34m*\u001b[0m\u001b[0mk\u001b[0m\u001b[0;34m]\u001b[0m\u001b[0;34m)\u001b[0m\u001b[0;34m\u001b[0m\u001b[0;34m\u001b[0m\u001b[0m\n\u001b[0m\u001b[1;32m     10\u001b[0m     \u001b[0mmin_dtw_index\u001b[0m \u001b[0;34m=\u001b[0m \u001b[0mdtw_temp\u001b[0m\u001b[0;34m.\u001b[0m\u001b[0mindex\u001b[0m\u001b[0;34m(\u001b[0m\u001b[0mmin\u001b[0m\u001b[0;34m(\u001b[0m\u001b[0mdtw_temp\u001b[0m\u001b[0;34m)\u001b[0m\u001b[0;34m)\u001b[0m\u001b[0;34m\u001b[0m\u001b[0;34m\u001b[0m\u001b[0m\n\u001b[1;32m     11\u001b[0m     \u001b[0mLayer_test\u001b[0m\u001b[0;34m[\u001b[0m\u001b[0mmin_dtw_index\u001b[0m\u001b[0;34m]\u001b[0m\u001b[0;34m.\u001b[0m\u001b[0mlearn\u001b[0m\u001b[0;34m(\u001b[0m\u001b[0mtrain_images\u001b[0m\u001b[0;34m[\u001b[0m\u001b[0mi\u001b[0m\u001b[0;34m+\u001b[0m\u001b[0;36m100\u001b[0m\u001b[0;34m*\u001b[0m\u001b[0mk\u001b[0m\u001b[0;34m]\u001b[0m\u001b[0;34m)\u001b[0m\u001b[0;34m\u001b[0m\u001b[0;34m\u001b[0m\u001b[0m\n",
      "\u001b[0;32m/tmp/ipykernel_252875/3530957298.py\u001b[0m in \u001b[0;36mdtw_distance\u001b[0;34m(signal1, signal2)\u001b[0m\n\u001b[1;32m     14\u001b[0m     \u001b[0;32mfor\u001b[0m \u001b[0mi\u001b[0m \u001b[0;32min\u001b[0m \u001b[0mrange\u001b[0m\u001b[0;34m(\u001b[0m\u001b[0;36m1\u001b[0m\u001b[0;34m,\u001b[0m \u001b[0mn\u001b[0m\u001b[0;34m+\u001b[0m\u001b[0;36m1\u001b[0m\u001b[0;34m)\u001b[0m\u001b[0;34m:\u001b[0m\u001b[0;34m\u001b[0m\u001b[0;34m\u001b[0m\u001b[0m\n\u001b[1;32m     15\u001b[0m         \u001b[0;32mfor\u001b[0m \u001b[0mj\u001b[0m \u001b[0;32min\u001b[0m \u001b[0mrange\u001b[0m\u001b[0;34m(\u001b[0m\u001b[0;36m1\u001b[0m\u001b[0;34m,\u001b[0m \u001b[0mm\u001b[0m\u001b[0;34m+\u001b[0m\u001b[0;36m1\u001b[0m\u001b[0;34m)\u001b[0m\u001b[0;34m:\u001b[0m\u001b[0;34m\u001b[0m\u001b[0;34m\u001b[0m\u001b[0m\n\u001b[0;32m---> 16\u001b[0;31m             \u001b[0mcost\u001b[0m \u001b[0;34m=\u001b[0m \u001b[0mabs\u001b[0m\u001b[0;34m(\u001b[0m\u001b[0msignal1\u001b[0m\u001b[0;34m[\u001b[0m\u001b[0mi\u001b[0m\u001b[0;34m-\u001b[0m\u001b[0;36m1\u001b[0m\u001b[0;34m]\u001b[0m \u001b[0;34m-\u001b[0m \u001b[0msignal2\u001b[0m\u001b[0;34m[\u001b[0m\u001b[0mj\u001b[0m\u001b[0;34m-\u001b[0m\u001b[0;36m1\u001b[0m\u001b[0;34m]\u001b[0m\u001b[0;34m)\u001b[0m\u001b[0;34m\u001b[0m\u001b[0;34m\u001b[0m\u001b[0m\n\u001b[0m\u001b[1;32m     17\u001b[0m             \u001b[0mdtw\u001b[0m\u001b[0;34m[\u001b[0m\u001b[0mi\u001b[0m\u001b[0;34m]\u001b[0m\u001b[0;34m[\u001b[0m\u001b[0mj\u001b[0m\u001b[0;34m]\u001b[0m \u001b[0;34m=\u001b[0m \u001b[0mcost\u001b[0m \u001b[0;34m+\u001b[0m \u001b[0mmin\u001b[0m\u001b[0;34m(\u001b[0m\u001b[0mdtw\u001b[0m\u001b[0;34m[\u001b[0m\u001b[0mi\u001b[0m\u001b[0;34m-\u001b[0m\u001b[0;36m1\u001b[0m\u001b[0;34m]\u001b[0m\u001b[0;34m[\u001b[0m\u001b[0mj\u001b[0m\u001b[0;34m]\u001b[0m\u001b[0;34m,\u001b[0m \u001b[0mdtw\u001b[0m\u001b[0;34m[\u001b[0m\u001b[0mi\u001b[0m\u001b[0;34m]\u001b[0m\u001b[0;34m[\u001b[0m\u001b[0mj\u001b[0m\u001b[0;34m-\u001b[0m\u001b[0;36m1\u001b[0m\u001b[0;34m]\u001b[0m\u001b[0;34m,\u001b[0m \u001b[0mdtw\u001b[0m\u001b[0;34m[\u001b[0m\u001b[0mi\u001b[0m\u001b[0;34m-\u001b[0m\u001b[0;36m1\u001b[0m\u001b[0;34m]\u001b[0m\u001b[0;34m[\u001b[0m\u001b[0mj\u001b[0m\u001b[0;34m-\u001b[0m\u001b[0;36m1\u001b[0m\u001b[0;34m]\u001b[0m\u001b[0;34m)\u001b[0m\u001b[0;34m\u001b[0m\u001b[0;34m\u001b[0m\u001b[0m\n\u001b[1;32m     18\u001b[0m \u001b[0;34m\u001b[0m\u001b[0m\n",
      "\u001b[0;31mKeyboardInterrupt\u001b[0m: "
     ]
    }
   ],
   "source": [
    "dtw_temp = [0 for _ in tqdm(range(100))]\n",
    "min_dtw_index = 0\n",
    "\n",
    "for i in tqdm(range(200)):\n",
    "  dtw_temp = [0 for _ in range(100)]\n",
    "  min_dtw_index = 0\n",
    "  for k in range(10):\n",
    "    for j in range(100): \n",
    "      dtw_temp[j] = dtw_distance(flat_last[j],train_images_flat[i+100*k])\n",
    "    min_dtw_index = dtw_temp.index(min(dtw_temp))\n",
    "    Layer_test[min_dtw_index].learn(train_images[i+100*k])\n",
    "    counter[min_dtw_index] += 1 \n",
    "    flat_last[i] = train_images_flat[i+100*k]"
   ]
  },
  {
   "cell_type": "code",
   "execution_count": 18,
   "id": "fce16cab",
   "metadata": {
    "ExecuteTime": {
     "end_time": "2023-04-11T08:13:47.961801Z",
     "start_time": "2023-04-11T07:57:56.252287Z"
    }
   },
   "outputs": [
    {
     "name": "stderr",
     "output_type": "stream",
     "text": [
      "100%|██████████| 100/100 [00:00<00:00, 435998.34it/s]\n",
      "100%|██████████| 100/100 [00:00<00:00, 1446311.72it/s]\n",
      "100%|██████████| 100/100 [15:51<00:00,  9.52s/it]\n"
     ]
    }
   ],
   "source": [
    "dtw_temp = [0 for _ in tqdm(range(100))]\n",
    "min_dtw_index = 0\n",
    "lgh = [[] for _ in tqdm(range(100))]\n",
    "\n",
    "for i in tqdm(range(100)):\n",
    "  dtw_temp = [0 for _ in range(100)]\n",
    "  min_dtw_index = 0\n",
    "  for k in range(10):\n",
    "    for j in range(100): \n",
    "      dtw_temp[j] = dtw_distance(flat_last[j],train_images_flat[i+100*k])\n",
    "      #lgh[j].append(train_labels[i+100*k])\n",
    "    min_dtw_index = dtw_temp.index(min(dtw_temp))\n",
    "    Layer_test[min_dtw_index].learn(train_images[i+100*k])\n",
    "    lgh[min_dtw_index].append(train_labels[i+100*k])\n",
    "    counter[min_dtw_index] += 1 \n",
    "    flat_last[i] = train_images_flat[i+100*k]"
   ]
  },
  {
   "cell_type": "code",
   "execution_count": null,
   "id": "94b20418",
   "metadata": {},
   "outputs": [],
   "source": [
    "for i in range()"
   ]
  },
  {
   "cell_type": "code",
   "execution_count": 19,
   "id": "1dc93409",
   "metadata": {
    "ExecuteTime": {
     "end_time": "2023-04-11T08:13:50.980182Z",
     "start_time": "2023-04-11T08:13:50.975674Z"
    }
   },
   "outputs": [
    {
     "name": "stdout",
     "output_type": "stream",
     "text": [
      "[0, 1, 0, 7, 3, 5, 5, 7]\n",
      "[2, 1]\n",
      "[0, 0, 0, 8, 9, 0, 7, 9, 3, 2, 6, 7, 4, 8, 1, 1, 6]\n",
      "[5, 7, 9]\n",
      "[7, 8]\n",
      "[8, 1, 5, 2, 5, 3, 5, 9, 5, 9, 1, 4, 8, 1, 5, 3, 9, 2, 5, 7, 7, 2]\n",
      "[3, 7, 2, 4, 7, 6, 3, 0, 2, 6, 9, 6, 3, 1]\n",
      "[9, 2, 1, 1, 1, 1, 7, 8, 2, 0, 1, 3, 9, 6, 0, 2, 0, 4, 1, 5, 8, 4, 0, 4, 9, 1, 4, 3, 8, 6, 6, 6, 3, 9, 7, 3, 1, 6, 5, 7, 0, 9, 3, 8, 3, 7, 3, 8]\n",
      "[9, 1, 4, 2, 3, 3, 1]\n",
      "[6, 7, 6]\n",
      "[5, 8, 4, 1, 7, 2, 9, 6, 3, 1, 6, 3, 6, 7, 4, 3, 8, 4, 0, 5]\n",
      "[9, 0, 7, 2, 5, 0, 9, 9, 8, 9, 0, 3, 1, 8, 8]\n",
      "[2, 1, 8, 1, 7, 6, 0, 0, 4]\n",
      "[4, 4, 1, 7]\n",
      "[3]\n",
      "[0, 1]\n",
      "[4, 5, 8, 5, 5, 6, 4, 9]\n",
      "[8, 0, 5, 0, 4, 4, 6, 8, 7, 5, 6, 6]\n",
      "[9, 3, 5, 1, 2, 9, 7, 0, 9, 3, 5, 1, 4, 7, 9, 4, 9, 4, 4, 9, 3, 2, 3, 0, 2, 4, 5, 0, 2]\n",
      "[5, 5]\n",
      "[1, 9, 2, 8, 7, 7, 1, 3, 9, 9, 7, 9, 0, 1, 2, 9]\n",
      "[5, 8, 0]\n",
      "[2, 8, 6, 1, 5, 8, 8, 7, 8, 8, 6, 1, 6, 7, 6, 2, 1, 7, 7, 9, 5, 7, 3, 1, 6, 3]\n",
      "[3, 5, 9, 4, 8, 5, 5, 2, 6]\n",
      "[4, 1, 5, 6, 4, 2, 5, 6, 8, 1, 1, 8]\n",
      "[6]\n",
      "[9, 8]\n",
      "[0, 2, 9, 4, 3, 5, 2, 5, 7, 0, 9, 2, 9, 7, 3, 0, 4, 0, 8, 6, 6, 6, 8, 1, 8, 3, 4, 3, 1, 6, 8, 4, 2, 6, 6]\n",
      "[7, 1, 3, 0, 8, 1, 9, 3, 0, 3, 4, 0, 2, 0, 0, 4, 5, 8]\n",
      "[3, 2, 2, 4, 5, 7, 5, 5, 8, 9, 6, 0, 8, 8, 7]\n",
      "[9, 3, 3, 5, 3, 0, 2, 1, 2, 1, 2, 0, 4, 7, 4]\n",
      "[6, 7, 7, 4, 2]\n",
      "[2, 4]\n",
      "[1, 1, 7, 7, 2, 2]\n",
      "[6, 8, 2, 4, 1]\n",
      "[5, 3, 5, 6, 7, 7, 1, 4, 8, 6, 1, 8, 3, 8, 3, 3, 3, 9, 7, 1, 3, 2, 3, 1, 0, 4]\n",
      "[4, 2, 4, 4, 7, 9]\n",
      "[]\n",
      "[0, 9, 8, 5, 6]\n",
      "[]\n",
      "[7, 5, 6, 5, 1, 2, 7, 8, 0, 5, 1, 7, 2, 0, 4, 2, 2, 6, 0, 7, 0]\n",
      "[9, 9, 7, 4, 6, 7, 2, 4, 5, 4, 7, 4, 1, 6, 0]\n",
      "[7, 3, 1, 0, 0, 7, 2]\n",
      "[9, 1, 1, 8, 5, 1, 5, 9, 8, 1, 8, 0, 8, 4, 9, 9, 0, 4, 2, 1, 4, 2, 0, 6, 8, 2, 2, 6, 1, 4, 3, 3, 5]\n",
      "[7, 3, 3, 4, 4, 5, 2, 6, 9]\n",
      "[8, 1, 5, 1, 6, 7, 0, 5, 2, 0, 7, 5, 5, 5, 7, 6, 9, 7, 1, 1, 9, 1, 4, 2, 7, 5, 9, 3, 6, 8, 6, 4]\n",
      "[8, 9, 2, 7, 2, 5, 9, 1, 7, 9, 4, 5, 3, 7, 5, 6, 0, 8, 6, 1, 1, 3, 1, 1, 3, 1, 3, 0, 4, 1, 5, 9, 2, 7, 9, 2, 4]\n",
      "[4, 3, 8, 2, 3, 3, 1]\n",
      "[7, 2]\n",
      "[4, 7, 1, 4, 8, 5, 0, 7, 7]\n",
      "[1, 5, 5, 7, 8, 0, 9, 6, 7, 9]\n",
      "[]\n",
      "[4, 9, 3, 2, 3, 6, 0, 2, 1, 3, 5, 8, 8, 7, 3, 8, 2, 1, 4, 9, 8]\n",
      "[7, 9, 2]\n",
      "[4, 0, 7, 5, 2, 1, 5, 6, 7, 2, 7, 7, 4]\n",
      "[9, 4, 0, 9, 1]\n",
      "[4]\n",
      "[7]\n",
      "[4, 1, 1, 2, 2, 5, 8, 3, 7, 8, 2, 4, 2, 5, 1, 1, 4, 7, 9, 4, 2, 3, 3, 0]\n",
      "[6, 8, 8, 0, 3, 9, 1, 5]\n",
      "[7, 0, 2, 5, 7, 0, 9, 7, 5]\n",
      "[2, 3]\n",
      "[6, 7, 0, 1, 7, 4, 8, 6, 3, 1, 2, 0, 0, 1, 1, 3, 2]\n",
      "[4, 6, 6, 0, 4, 7, 9, 1, 0, 5, 1, 1, 9, 7, 3, 7, 6, 0, 7]\n",
      "[7]\n",
      "[4, 6]\n",
      "[5, 7, 2, 2, 8, 5, 4, 8, 9, 1, 8, 9, 6, 3, 7, 1, 7, 7, 9, 3, 4, 1, 5, 6, 6, 1, 9, 4, 9]\n",
      "[1, 7, 3, 6, 4, 8, 2]\n",
      "[7]\n",
      "[2, 0]\n",
      "[4, 5, 6, 2, 1, 7, 9, 6, 4, 2, 5, 1, 7, 1, 3]\n",
      "[7, 4, 7, 8]\n",
      "[6, 7, 7, 1, 6, 9, 4, 0, 3, 9, 8, 6, 4, 0, 0]\n",
      "[]\n",
      "[1, 6, 1, 7, 5, 4, 9, 6, 4, 6, 9, 4, 6, 9, 1, 7, 3, 6, 6, 2, 2, 5, 0, 2, 1, 3, 1, 5, 9, 1, 4, 4]\n",
      "[]\n",
      "[0, 0, 1]\n",
      "[8, 6, 3, 6, 5, 9, 2, 5, 7, 8, 7, 8, 9, 4, 2, 9, 3, 7, 9, 2, 0, 0, 5, 2, 3, 1, 6, 0, 7]\n",
      "[4, 6, 4, 3, 4, 5, 3, 0, 9, 5]\n",
      "[6, 9, 8, 8, 0, 7, 1, 2, 2, 8, 2, 0]\n",
      "[0]\n",
      "[9, 7, 3, 6, 3, 6, 9, 9, 7, 1, 7]\n",
      "[5, 1, 1, 0, 6, 6, 5, 2, 4, 9, 9, 4]\n",
      "[9, 4]\n",
      "[1, 8, 5, 3, 2, 4, 4, 3, 2, 0, 4]\n",
      "[1, 0, 7, 0, 2, 7, 4, 3]\n",
      "[9, 2, 8]\n",
      "[5, 1, 7, 0, 8]\n",
      "[9, 0, 0, 8, 6, 5, 7]\n",
      "[7, 3, 6]\n",
      "[3, 8, 6]\n",
      "[0]\n",
      "[8, 0, 6, 2]\n",
      "[3, 8, 4, 5, 0, 4]\n",
      "[9, 5, 0]\n",
      "[0]\n",
      "[7, 2, 9]\n",
      "[6, 2, 6]\n",
      "[3, 9, 9, 4, 1, 4, 9, 8, 0, 8]\n",
      "[0]\n"
     ]
    }
   ],
   "source": [
    "for i in range(100):\n",
    "  print(lgh[i])"
   ]
  },
  {
   "cell_type": "code",
   "execution_count": 20,
   "id": "b0ad8a4d",
   "metadata": {
    "ExecuteTime": {
     "end_time": "2023-04-11T08:49:19.021415Z",
     "start_time": "2023-04-11T08:17:24.138330Z"
    }
   },
   "outputs": [
    {
     "name": "stderr",
     "output_type": "stream",
     "text": [
      "100%|██████████| 100/100 [00:00<00:00, 1471685.61it/s]\n",
      "100%|██████████| 100/100 [00:00<00:00, 1553445.93it/s]\n",
      "100%|██████████| 200/200 [31:54<00:00,  9.57s/it]\n"
     ]
    }
   ],
   "source": [
    "dtw_temp = [0 for _ in tqdm(range(100))]\n",
    "min_dtw_index = 0\n",
    "lgh_1 = [[] for _ in tqdm(range(100))]\n",
    "\n",
    "for i in tqdm(range(200)):\n",
    "  dtw_temp = [0 for _ in range(100)]\n",
    "  min_dtw_index = 0\n",
    "  for k in range(10):\n",
    "    for j in range(100): \n",
    "      dtw_temp[j] = dtw_distance(flat_last[j],train_images_flat[i+100*k])\n",
    "      #lgh[j].append(train_labels[i+100*k])\n",
    "    min_dtw_index = dtw_temp.index(min(dtw_temp))\n",
    "    Layer_test[min_dtw_index].learn(train_images[i+100*k])\n",
    "    lgh_1[min_dtw_index].append(train_labels[i+100*k])\n",
    "    counter[min_dtw_index] += 1 \n",
    "    flat_last[i] = train_images_flat[i+100*k]"
   ]
  },
  {
   "cell_type": "code",
   "execution_count": 21,
   "id": "aa0e5f33",
   "metadata": {
    "ExecuteTime": {
     "end_time": "2023-04-11T08:49:26.195479Z",
     "start_time": "2023-04-11T08:49:26.191567Z"
    }
   },
   "outputs": [
    {
     "name": "stdout",
     "output_type": "stream",
     "text": [
      "[0, 1, 0, 7, 3, 5, 5, 7, 9, 0, 7, 3, 5, 5, 7]\n",
      "[2, 1, 6, 2, 1]\n",
      "[0, 0, 0, 8, 9, 0, 7, 9, 3, 2, 6, 7, 4, 8, 1, 1, 6, 9, 1, 0, 0, 8, 0, 2, 2, 6, 1, 7, 8, 1, 1, 6]\n",
      "[5, 7, 9, 0, 7]\n",
      "[7, 8, 7, 7, 8]\n",
      "[8, 1, 5, 2, 5, 3, 5, 9, 5, 9, 1, 4, 8, 1, 5, 3, 9, 2, 5, 7, 7, 2, 8, 1, 1, 5, 2, 5, 3, 5, 9, 5, 9, 2, 4, 8, 1, 9, 5, 9, 2, 7, 0, 2]\n",
      "[3, 7, 2, 4, 7, 6, 3, 0, 2, 6, 9, 6, 3, 1, 4, 7, 2, 4, 7, 6, 2, 3, 0, 8, 2, 6, 9, 6]\n",
      "[9, 2, 1, 1, 1, 1, 7, 8, 2, 0, 1, 3, 9, 6, 0, 2, 0, 4, 1, 5, 8, 4, 0, 4, 9, 1, 4, 3, 8, 6, 6, 6, 3, 9, 7, 3, 1, 6, 5, 7, 0, 9, 3, 8, 3, 7, 3, 8, 9, 1, 2, 1, 1, 7, 8, 0, 7, 7, 1, 9, 6, 0, 2, 4, 1, 5, 8, 4, 0, 4, 9, 1, 4, 3, 8, 6, 6, 9, 7, 7, 3, 1, 5, 7, 6, 0, 9, 3, 8, 3, 7, 4, 8]\n",
      "[9, 1, 4, 2, 3, 3, 1, 9, 7, 1, 4, 2, 3, 3, 1]\n",
      "[6, 7, 6, 3, 6, 7]\n",
      "[5, 8, 4, 1, 7, 2, 9, 6, 3, 1, 6, 3, 6, 7, 4, 3, 8, 4, 0, 5, 5, 8, 6, 7, 2, 9, 6, 3, 1, 6, 3, 0, 6, 1, 7, 4, 3, 3, 0, 5]\n",
      "[9, 0, 7, 2, 5, 0, 9, 9, 8, 9, 0, 3, 1, 8, 8, 9, 0, 7, 2, 5, 7, 0, 9, 9, 8, 9, 0, 3, 1, 8, 8]\n",
      "[2, 1, 8, 1, 7, 6, 0, 0, 4, 5, 2, 8, 1, 0, 4]\n",
      "[4, 4, 1, 7, 8, 4, 4, 8, 1, 7]\n",
      "[3, 4, 3]\n",
      "[0, 1, 0, 5, 8, 4]\n",
      "[4, 5, 8, 5, 5, 6, 4, 9, 5, 4, 5, 5, 5, 6, 4, 9]\n",
      "[8, 0, 5, 0, 4, 4, 6, 8, 7, 5, 6, 6, 8, 0, 2, 5, 0, 4, 6, 8, 7, 5, 5, 6, 6]\n",
      "[9, 3, 5, 1, 2, 9, 7, 0, 9, 3, 5, 1, 4, 7, 9, 4, 9, 4, 4, 9, 3, 2, 3, 0, 2, 4, 5, 0, 2, 3, 5, 4, 7, 9, 7, 0, 9, 3, 5, 1, 4, 7, 9, 9, 4, 9, 3, 7, 2, 3, 2, 4, 5, 2]\n",
      "[5, 5, 1, 5]\n",
      "[1, 9, 2, 8, 7, 7, 1, 3, 9, 9, 7, 9, 0, 1, 2, 9, 4, 1, 2, 9, 2, 1, 8, 4, 0, 3, 7, 9, 7, 9, 0, 1, 2, 9, 3]\n",
      "[5, 8, 0, 5, 8, 5, 0, 0]\n",
      "[2, 8, 6, 1, 5, 8, 8, 7, 8, 8, 6, 1, 6, 7, 6, 2, 1, 7, 7, 9, 5, 7, 3, 1, 6, 3, 2, 8, 6, 1, 4, 6, 5, 8, 7, 8, 8, 6, 1, 6, 6, 2, 7, 7, 5, 7, 3, 1, 3]\n",
      "[3, 5, 9, 4, 8, 5, 5, 2, 6, 8, 3, 5, 9, 4, 6, 5, 5, 6, 2, 6]\n",
      "[4, 1, 5, 6, 4, 2, 5, 6, 8, 1, 1, 8, 4, 1, 6, 5, 2, 5, 6, 8, 1, 1, 8]\n",
      "[6, 2, 8]\n",
      "[9, 8, 9, 4]\n",
      "[0, 2, 9, 4, 3, 5, 2, 5, 7, 0, 9, 2, 9, 7, 3, 0, 4, 0, 8, 6, 6, 6, 8, 1, 8, 3, 4, 3, 1, 6, 8, 4, 2, 6, 6, 2, 4, 3, 5, 0, 5, 3, 9, 7, 0, 9, 2, 9, 7, 3, 0, 4, 8, 6, 6, 6, 8, 1, 8, 3, 4, 3, 1, 6, 8, 5, 4, 2, 6]\n",
      "[7, 1, 3, 0, 8, 1, 9, 3, 0, 3, 4, 0, 2, 0, 0, 4, 5, 8, 7, 1, 0, 1, 7, 9, 3, 5, 0, 4, 2, 0, 0, 5]\n",
      "[3, 2, 2, 4, 5, 7, 5, 5, 8, 9, 6, 0, 8, 8, 7, 2, 2, 0, 9, 9, 4, 7, 5, 8, 7, 5, 5, 8, 9, 6, 0, 8]\n",
      "[9, 3, 3, 5, 3, 0, 2, 1, 2, 1, 2, 0, 4, 7, 4, 0, 9, 3, 3, 5, 3, 0, 9, 1, 2, 1, 2, 0, 4, 7]\n",
      "[6, 7, 7, 4, 2, 2, 6, 7, 4, 1, 2]\n",
      "[2, 4, 9, 2, 4]\n",
      "[1, 1, 7, 7, 2, 2, 1, 1, 7, 7, 2, 2]\n",
      "[6, 8, 2, 4, 1, 6, 7, 7, 8, 7, 2, 4, 1]\n",
      "[5, 3, 5, 6, 7, 7, 1, 4, 8, 6, 1, 8, 3, 8, 3, 3, 3, 9, 7, 1, 3, 2, 3, 1, 0, 4, 5, 1, 3, 3, 6, 7, 7, 1, 4, 8, 8, 6, 1, 8, 8, 3, 3, 3, 9, 1, 3, 2, 3, 0, 5, 7, 1]\n",
      "[4, 2, 4, 4, 7, 9, 4, 2, 5, 7, 6, 1, 4, 4, 9, 4]\n",
      "[4]\n",
      "[0, 9, 8, 5, 6, 0, 0, 9, 8, 2, 5]\n",
      "[6]\n",
      "[7, 5, 6, 5, 1, 2, 7, 8, 0, 5, 1, 7, 2, 0, 4, 2, 2, 6, 0, 7, 0, 7, 5, 6, 5, 1, 2, 9, 1, 7, 2, 0, 2, 2, 0, 0]\n",
      "[9, 9, 7, 4, 6, 7, 2, 4, 5, 4, 7, 4, 1, 6, 0, 9, 9, 7, 4, 6, 7, 2, 1, 5, 4, 7, 6, 0]\n",
      "[7, 3, 1, 0, 0, 7, 2, 1, 7, 3, 1, 7, 0, 8, 7]\n",
      "[9, 1, 1, 8, 5, 1, 5, 9, 8, 1, 8, 0, 8, 4, 9, 9, 0, 4, 2, 1, 4, 2, 0, 6, 8, 2, 2, 6, 1, 4, 3, 3, 5, 9, 1, 1, 8, 5, 1, 2, 2, 0, 8, 1, 0, 8, 4, 9, 9, 4, 2, 4, 0, 6, 8, 2, 2, 6, 4, 3, 3, 5, 4]\n",
      "[7, 3, 3, 4, 4, 5, 2, 6, 9, 7, 3, 3, 4, 6, 4, 2, 6, 9]\n",
      "[8, 1, 5, 1, 6, 7, 0, 5, 2, 0, 7, 5, 5, 5, 7, 6, 9, 7, 1, 1, 9, 1, 4, 2, 7, 5, 9, 3, 6, 8, 6, 4, 8, 1, 5, 1, 6, 8, 7, 0, 1, 5, 5, 1, 4, 7, 6, 9, 1, 9, 7, 1, 9, 1, 4, 2, 5, 9, 6, 8, 6, 4]\n",
      "[8, 9, 2, 7, 2, 5, 9, 1, 7, 9, 4, 5, 3, 7, 5, 6, 0, 8, 6, 1, 1, 3, 1, 1, 3, 1, 3, 0, 4, 1, 5, 9, 2, 7, 9, 2, 4, 9, 4, 8, 9, 2, 8, 7, 2, 5, 9, 7, 9, 4, 5, 3, 7, 5, 0, 2, 8, 6, 1, 1, 3, 1, 1, 3, 3, 0, 4, 1, 5, 2, 7, 9, 2, 4]\n",
      "[4, 3, 8, 2, 3, 3, 1, 4, 3, 5, 8, 2, 3, 1]\n",
      "[7, 2]\n",
      "[4, 7, 1, 4, 8, 5, 0, 7, 7, 4, 0, 0, 7, 3, 7]\n",
      "[1, 5, 5, 7, 8, 0, 9, 6, 7, 9, 1, 5, 7, 3, 0, 9, 7, 7, 6, 5, 9]\n",
      "[1]\n",
      "[4, 9, 3, 2, 3, 6, 0, 2, 1, 3, 5, 8, 8, 7, 3, 8, 2, 1, 4, 9, 8, 9, 3, 2, 3, 6, 0, 2, 0, 3, 5, 8, 8, 7, 3, 8, 1, 2, 1, 4, 9, 8]\n",
      "[7, 9, 2, 7, 9, 3, 2]\n",
      "[4, 0, 7, 5, 2, 1, 5, 6, 7, 2, 7, 7, 4, 4, 0, 7, 5, 7, 1, 7, 0, 2, 7, 4]\n",
      "[9, 4, 0, 9, 1, 9, 4, 2, 0, 9, 6, 1, 1]\n",
      "[4, 4, 5]\n",
      "[7, 0]\n",
      "[4, 1, 1, 2, 2, 5, 8, 3, 7, 8, 2, 4, 2, 5, 1, 1, 4, 7, 9, 4, 2, 3, 3, 0, 4, 1, 1, 2, 6, 8, 3, 7, 8, 2, 0, 6, 2, 5, 1, 1, 4, 7, 9, 2, 3, 0]\n",
      "[6, 8, 8, 0, 3, 9, 1, 5, 6, 8, 8, 1, 3, 9, 1, 5]\n",
      "[7, 0, 2, 5, 7, 0, 9, 7, 5, 7, 0, 2, 5, 0, 5, 9, 7, 5]\n",
      "[2, 3, 2, 1, 3]\n",
      "[6, 7, 0, 1, 7, 4, 8, 6, 3, 1, 2, 0, 0, 1, 1, 3, 2, 6, 0, 1, 7, 4, 8, 6, 1, 2, 0, 0, 7, 1, 1, 3]\n",
      "[4, 6, 6, 0, 4, 7, 9, 1, 0, 5, 1, 1, 9, 7, 3, 7, 6, 0, 7, 4, 6, 6, 0, 4, 7, 8, 9, 1, 5, 1, 4, 8, 1, 9, 7, 9, 0, 7]\n",
      "[7, 7, 5]\n",
      "[4, 6, 4, 0]\n",
      "[5, 7, 2, 2, 8, 5, 4, 8, 9, 1, 8, 9, 6, 3, 7, 1, 7, 7, 9, 3, 4, 1, 5, 6, 6, 1, 9, 4, 9, 7, 2, 8, 5, 4, 9, 1, 8, 9, 3, 7, 1, 7, 7, 3, 4, 2, 1, 5, 6, 3, 1, 1, 9, 4, 2]\n",
      "[1, 7, 3, 6, 4, 8, 2, 1, 7, 3, 6, 8, 4, 8, 4, 7, 2]\n",
      "[7, 7]\n",
      "[2, 0, 2, 7]\n",
      "[4, 5, 6, 2, 1, 7, 9, 6, 4, 2, 5, 1, 7, 1, 3, 5, 2, 1, 7, 9, 6, 4, 5, 5, 7, 1, 3]\n",
      "[7, 4, 7, 8, 7, 4, 7, 7, 8]\n",
      "[6, 7, 7, 1, 6, 9, 4, 0, 3, 9, 8, 6, 4, 0, 0, 6, 7, 1, 9, 4, 0, 3, 8, 9, 1, 8, 6, 4, 0]\n",
      "[6]\n",
      "[1, 6, 1, 7, 5, 4, 9, 6, 4, 6, 9, 4, 6, 9, 1, 7, 3, 6, 6, 2, 2, 5, 0, 2, 1, 3, 1, 5, 9, 1, 4, 4, 7, 6, 1, 8, 5, 9, 6, 7, 9, 4, 6, 1, 3, 6, 6, 3, 2, 8, 2, 5, 0, 2, 2, 9, 2, 0, 3, 1, 5, 9, 1, 4, 4]\n",
      "[2, 3]\n",
      "[0, 0, 1, 0, 8, 0, 1]\n",
      "[8, 6, 3, 6, 5, 9, 2, 5, 7, 8, 7, 8, 9, 4, 2, 9, 3, 7, 9, 2, 0, 0, 5, 2, 3, 1, 6, 0, 7, 8, 6, 3, 0, 5, 2, 5, 7, 5, 9, 8, 2, 7, 2, 9, 7, 2, 0, 5, 2, 6, 3, 1, 6, 6, 7]\n",
      "[4, 6, 4, 3, 4, 5, 3, 0, 9, 5, 4, 0, 4, 3, 4, 5, 3, 0, 9, 9, 1, 5]\n",
      "[6, 9, 8, 8, 0, 7, 1, 2, 2, 8, 2, 0, 8, 7, 1, 2, 8, 2, 0, 0]\n",
      "[0, 7, 0, 9]\n",
      "[9, 7, 3, 6, 3, 6, 9, 9, 7, 1, 7, 9, 7, 3, 6, 9, 9, 1, 7, 7]\n",
      "[5, 1, 1, 0, 6, 6, 5, 2, 4, 9, 9, 4, 5, 1, 1, 0, 6, 6, 5, 4, 1, 9, 4]\n",
      "[9, 4, 9, 4, 3]\n",
      "[1, 8, 5, 3, 2, 4, 4, 3, 2, 0, 4, 1, 8, 4, 5, 3, 2, 4, 4, 3, 2, 0, 4]\n",
      "[1, 0, 7, 0, 2, 7, 4, 3, 1, 0, 7, 0, 2, 7, 4, 5, 3]\n",
      "[9, 2, 8, 6, 2, 8]\n",
      "[5, 1, 7, 0, 8, 5, 1, 0, 8, 4]\n",
      "[9, 0, 0, 8, 6, 5, 7, 0, 4, 5, 7]\n",
      "[7, 3, 6, 3, 2]\n",
      "[3, 8, 6, 3, 8, 6, 4]\n",
      "[0, 0, 4]\n",
      "[8, 0, 6, 2, 8, 0, 6, 8, 2, 3]\n",
      "[3, 8, 4, 5, 0, 4, 3, 8, 4, 5, 1, 4]\n",
      "[9, 5, 0, 9, 0, 7]\n",
      "[0, 0, 7]\n",
      "[7, 2, 9, 7, 4, 2, 9, 6]\n",
      "[6, 2, 6, 6, 2, 6, 0]\n",
      "[3, 9, 9, 4, 1, 4, 9, 8, 0, 8, 3, 9, 9, 9, 8, 0, 4, 8, 7, 3]\n",
      "[0, 0, 6]\n"
     ]
    }
   ],
   "source": [
    "for i in range(100):\n",
    "  print(lgh_1[i])"
   ]
  },
  {
   "cell_type": "code",
   "execution_count": 22,
   "id": "adaa7f97",
   "metadata": {
    "ExecuteTime": {
     "end_time": "2023-04-11T08:52:05.230489Z",
     "start_time": "2023-04-11T08:52:05.227066Z"
    }
   },
   "outputs": [
    {
     "name": "stdout",
     "output_type": "stream",
     "text": [
      "61  15  100  18  14  150  96  310  50  21  131  100  54  33  14  24  54  84  190  16\n",
      "106  23  164  66  74  11  15  232  105  98  94  41  18  37  41  180  58  5  35  15\n",
      "125  94  47  204  78  186  222  45  11  55  69  4  132  22  77  40  16  14  151  56\n",
      "58  17  99  123  21  17  167  66  11  21  98  51  82  15  176  7  51  157  57  62\n",
      "44  63  67  29  61  46  32  28  34  85  30  16  27  38  32  8  34  26  53  11\n"
     ]
    }
   ],
   "source": [
    "for i in range(100):\n",
    "  if((i+1)%20 == 0):\n",
    "    print(counter[i])\n",
    "  else:\n",
    "    print(counter[i], end = '  ')"
   ]
  },
  {
   "cell_type": "code",
   "execution_count": null,
   "id": "e33d5649",
   "metadata": {
    "ExecuteTime": {
     "end_time": "2023-04-11T06:34:33.551463Z",
     "start_time": "2023-04-11T06:34:33.551451Z"
    }
   },
   "outputs": [],
   "source": [
    "for i in range(100):\n",
    "  if((i+1)%20 == 0):\n",
    "    print(counter[i])\n",
    "  else:\n",
    "    print(counter[i], end = '  ')\n",
    "  "
   ]
  },
  {
   "cell_type": "code",
   "execution_count": 23,
   "id": "2c1d678a",
   "metadata": {
    "ExecuteTime": {
     "end_time": "2023-04-11T08:52:52.681119Z",
     "start_time": "2023-04-11T08:52:52.678553Z"
    }
   },
   "outputs": [
    {
     "name": "stdout",
     "output_type": "stream",
     "text": [
      "6721\n"
     ]
    }
   ],
   "source": [
    "print(sum(counter))"
   ]
  },
  {
   "cell_type": "code",
   "execution_count": null,
   "id": "ab402eb3",
   "metadata": {
    "ExecuteTime": {
     "end_time": "2023-04-11T06:34:33.552532Z",
     "start_time": "2023-04-11T06:34:33.552521Z"
    }
   },
   "outputs": [],
   "source": [
    "for i in range(100):\n",
    "  if(counter[i]>100): \n",
    "    print(i, counter[i])"
   ]
  },
  {
   "cell_type": "code",
   "execution_count": null,
   "id": "cf23b871",
   "metadata": {
    "ExecuteTime": {
     "end_time": "2023-04-11T06:34:33.553473Z",
     "start_time": "2023-04-11T06:34:33.553462Z"
    }
   },
   "outputs": [],
   "source": [
    "dtw_comparison = [[0 for _ in range(100)] for _ in range(100)]\n",
    "\n",
    "for i in tqdm(range(100)):\n",
    "  for j in range(100):\n",
    "    dtw_comparison[i][j] = dtw_distance(flat_last[i],flat_last[j])\n",
    "    "
   ]
  },
  {
   "cell_type": "code",
   "execution_count": null,
   "id": "0fc64923",
   "metadata": {
    "ExecuteTime": {
     "end_time": "2023-04-11T06:34:33.554675Z",
     "start_time": "2023-04-11T06:34:33.554663Z"
    }
   },
   "outputs": [],
   "source": [
    "print(dtw_comparison[0])"
   ]
  },
  {
   "cell_type": "code",
   "execution_count": null,
   "id": "82d80798",
   "metadata": {
    "ExecuteTime": {
     "end_time": "2023-04-11T06:34:33.555629Z",
     "start_time": "2023-04-11T06:34:33.555618Z"
    }
   },
   "outputs": [],
   "source": [
    "print(dtw_comparison[2])"
   ]
  },
  {
   "cell_type": "code",
   "execution_count": null,
   "id": "00f71cd5",
   "metadata": {},
   "outputs": [],
   "source": []
  }
 ],
 "metadata": {
  "kernelspec": {
   "display_name": "Python 3 (ipykernel)",
   "language": "python",
   "name": "python3"
  },
  "language_info": {
   "codemirror_mode": {
    "name": "ipython",
    "version": 3
   },
   "file_extension": ".py",
   "mimetype": "text/x-python",
   "name": "python",
   "nbconvert_exporter": "python",
   "pygments_lexer": "ipython3",
   "version": "3.9.15"
  },
  "toc": {
   "base_numbering": 1,
   "nav_menu": {},
   "number_sections": true,
   "sideBar": true,
   "skip_h1_title": false,
   "title_cell": "Table of Contents",
   "title_sidebar": "Contents",
   "toc_cell": false,
   "toc_position": {},
   "toc_section_display": true,
   "toc_window_display": false
  },
  "varInspector": {
   "cols": {
    "lenName": 16,
    "lenType": 16,
    "lenVar": 40
   },
   "kernels_config": {
    "python": {
     "delete_cmd_postfix": "",
     "delete_cmd_prefix": "del ",
     "library": "var_list.py",
     "varRefreshCmd": "print(var_dic_list())"
    },
    "r": {
     "delete_cmd_postfix": ") ",
     "delete_cmd_prefix": "rm(",
     "library": "var_list.r",
     "varRefreshCmd": "cat(var_dic_list()) "
    }
   },
   "types_to_exclude": [
    "module",
    "function",
    "builtin_function_or_method",
    "instance",
    "_Feature"
   ],
   "window_display": false
  }
 },
 "nbformat": 4,
 "nbformat_minor": 5
}
