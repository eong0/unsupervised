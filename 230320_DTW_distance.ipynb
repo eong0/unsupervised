{
 "cells": [
  {
   "cell_type": "code",
   "execution_count": 1,
   "id": "d2312817",
   "metadata": {
    "ExecuteTime": {
     "end_time": "2023-03-20T05:27:37.809258Z",
     "start_time": "2023-03-20T05:25:50.430264Z"
    }
   },
   "outputs": [
    {
     "name": "stderr",
     "output_type": "stream",
     "text": [
      "2023-03-20 14:25:50.516479: I tensorflow/core/platform/cpu_feature_guard.cc:193] This TensorFlow binary is optimized with oneAPI Deep Neural Network Library (oneDNN) to use the following CPU instructions in performance-critical operations:  AVX2 AVX512F AVX512_VNNI FMA\n",
      "To enable them in other operations, rebuild TensorFlow with the appropriate compiler flags.\n",
      "2023-03-20 14:25:50.656818: I tensorflow/core/util/port.cc:104] oneDNN custom operations are on. You may see slightly different numerical results due to floating-point round-off errors from different computation orders. To turn them off, set the environment variable `TF_ENABLE_ONEDNN_OPTS=0`.\n",
      "2023-03-20 14:25:51.239190: W tensorflow/compiler/xla/stream_executor/platform/default/dso_loader.cc:64] Could not load dynamic library 'libnvinfer.so.7'; dlerror: libnvinfer.so.7: cannot open shared object file: No such file or directory; LD_LIBRARY_PATH: /usr/local/cuda/lib64:\n",
      "2023-03-20 14:25:51.239254: W tensorflow/compiler/xla/stream_executor/platform/default/dso_loader.cc:64] Could not load dynamic library 'libnvinfer_plugin.so.7'; dlerror: libnvinfer_plugin.so.7: cannot open shared object file: No such file or directory; LD_LIBRARY_PATH: /usr/local/cuda/lib64:\n",
      "2023-03-20 14:25:51.239261: W tensorflow/compiler/tf2tensorrt/utils/py_utils.cc:38] TF-TRT Warning: Cannot dlopen some TensorRT libraries. If you would like to use Nvidia GPU with TensorRT, please make sure the missing libraries mentioned above are installed properly.\n",
      "/home/neurochip3/anaconda3/lib/python3.9/site-packages/numpy/core/getlimits.py:499: UserWarning: The value of the smallest subnormal for <class 'numpy.float32'> type is zero.\n",
      "  setattr(self, word, getattr(machar, word).flat[0])\n",
      "/home/neurochip3/anaconda3/lib/python3.9/site-packages/numpy/core/getlimits.py:89: UserWarning: The value of the smallest subnormal for <class 'numpy.float32'> type is zero.\n",
      "  return self._float_to_str(self.smallest_subnormal)\n",
      "/home/neurochip3/anaconda3/lib/python3.9/site-packages/numpy/core/getlimits.py:499: UserWarning: The value of the smallest subnormal for <class 'numpy.float64'> type is zero.\n",
      "  setattr(self, word, getattr(machar, word).flat[0])\n",
      "/home/neurochip3/anaconda3/lib/python3.9/site-packages/numpy/core/getlimits.py:89: UserWarning: The value of the smallest subnormal for <class 'numpy.float64'> type is zero.\n",
      "  return self._float_to_str(self.smallest_subnormal)\n",
      "2023-03-20 14:25:52.777987: W tensorflow/compiler/xla/stream_executor/platform/default/dso_loader.cc:64] Could not load dynamic library 'libcudnn.so.8'; dlerror: libcudnn.so.8: cannot open shared object file: No such file or directory; LD_LIBRARY_PATH: /usr/local/cuda/lib64:\n",
      "2023-03-20 14:25:52.778020: W tensorflow/core/common_runtime/gpu/gpu_device.cc:1934] Cannot dlopen some GPU libraries. Please make sure the missing libraries mentioned above are installed properly if you would like to use GPU. Follow the guide at https://www.tensorflow.org/install/gpu for how to download and setup the required libraries for your platform.\n",
      "Skipping registering GPU devices...\n",
      "2023-03-20 14:25:52.778352: I tensorflow/core/platform/cpu_feature_guard.cc:193] This TensorFlow binary is optimized with oneAPI Deep Neural Network Library (oneDNN) to use the following CPU instructions in performance-critical operations:  AVX2 AVX512F AVX512_VNNI FMA\n",
      "To enable them in other operations, rebuild TensorFlow with the appropriate compiler flags.\n"
     ]
    }
   ],
   "source": [
    "from tensorflow import keras\n",
    "from matplotlib import pyplot as plt\n",
    "import numpy as np\n",
    "import tensorflow as tf\n",
    "\n",
    "(train_images, train_labels),(test_images, test_labels)= keras.datasets.mnist.load_data() \n",
    "\n",
    "image_size = 27\n",
    "train_images = np.expand_dims(train_images, axis = -1)\n",
    "train_images = tf.image.resize(train_images,[image_size,image_size])\n",
    "train_images = np.squeeze(train_images)\n",
    "train_images= train_images/255.0\n",
    "\n",
    "test_images = np.expand_dims(test_images, axis = -1)\n",
    "test_images = tf.image.resize(test_images,[image_size,image_size])\n",
    "test_images = np.squeeze(test_images)\n",
    "test_images= test_images/255.0\n",
    "\n",
    "for k in range(int(train_images.shape[0])) :\n",
    "      for i in range(image_size):\n",
    "            for j in range(image_size):\n",
    "                if train_images[k, i,j] <0.3:\n",
    "                    train_images[k, i, j] = 0\n",
    "                elif train_images[k, i,j] <0.7:\n",
    "                    train_images[k, i,j] = 0.5\n",
    "                else :\n",
    "                    train_images[k, i,j] = 1\n",
    "\n",
    "for k in range(int(test_images.shape[0])) :\n",
    "  for i in range(image_size):\n",
    "    for j in range(image_size):\n",
    "      if test_images[k, i,j] <0.3:\n",
    "        test_images[k, i, j] = 0\n",
    "      elif test_images[k, i,j] <0.7:\n",
    "        test_images[k, i,j] = 0.5\n",
    "      else :\n",
    "        test_images[k, i,j] = 1"
   ]
  },
  {
   "cell_type": "code",
   "execution_count": 2,
   "id": "3baa6aa6",
   "metadata": {
    "ExecuteTime": {
     "end_time": "2023-03-20T05:27:37.829846Z",
     "start_time": "2023-03-20T05:27:37.825588Z"
    }
   },
   "outputs": [],
   "source": [
    "#6개 edge 선언\n",
    "filters = [[],[],[],[],[],[]]\n",
    "filters[0] = [[1,2,1],[0,0,0],[-1,-2,-1]]#0\n",
    "filters[1] = [[0,1,3],[0,0,0],[-3,-1,0]] #30\n",
    "filters[2] = [[0,0,3],[-1,0,1],[-3,0,0]] #60\n",
    "filters[3] = [[-1,0,1],[-2,0,2],[-1,0,1]]#90\n",
    "filters[4] = [[-3,0,0],[-1,0,1],[0,1,3]] #120\n",
    "filters[5] = [[-3,-1,0],[0,0,0],[0,1,3]] #150"
   ]
  },
  {
   "cell_type": "code",
   "execution_count": 4,
   "id": "1b91b037",
   "metadata": {
    "ExecuteTime": {
     "end_time": "2023-03-20T05:28:39.456370Z",
     "start_time": "2023-03-20T05:28:39.451953Z"
    }
   },
   "outputs": [],
   "source": [
    "def flattening(image,filter):\n",
    "  edge_sum = [[0]*(9) for _ in range(9)]\n",
    "  flat_result_sum=[[0] for _ in range(81)]\n",
    "  for i in range(0, image.shape[0]-2, 3):\n",
    "    for j in range(0, image.shape[1]-2, 3):\n",
    "      image_patch = image[i:i+3, j:j+3]\n",
    "      edge_sum[int(i/3)][int(j/3)]=np.sum(np.multiply(image_patch,filter))\n",
    "  \n",
    "  flat_result_sum=[element for row in edge_sum for element in row]\n",
    "  return flat_result_sum"
   ]
  },
  {
   "cell_type": "code",
   "execution_count": 5,
   "id": "56ea4168",
   "metadata": {
    "ExecuteTime": {
     "end_time": "2023-03-20T05:28:39.926323Z",
     "start_time": "2023-03-20T05:28:39.918799Z"
    }
   },
   "outputs": [],
   "source": [
    "flat_result_sum=[[],[],[],[],[],[]]\n",
    "for i in range(6):\n",
    "  flat_result_sum[i] = flattening(train_images[0],filters[i])"
   ]
  },
  {
   "cell_type": "code",
   "execution_count": 6,
   "id": "d4980138",
   "metadata": {
    "ExecuteTime": {
     "end_time": "2023-03-20T05:28:40.788920Z",
     "start_time": "2023-03-20T05:28:40.780759Z"
    }
   },
   "outputs": [],
   "source": [
    "def edge_pattern(flattened_sum):\n",
    "  \n",
    "  temp = []\n",
    "  max_index=[[0] for _ in range(81)]\n",
    "  edge_pattern=[[0] for _ in range(80)]\n",
    "  \n",
    "    \n",
    "  for i in range(81):\n",
    "    temp.clear()\n",
    "    for j in range(6):\n",
    "      temp.append(flattened_sum[j][i])\n",
    "\n",
    "    if(max(temp)==0):\n",
    "      max_index[i] = 20\n",
    "    elif(max(temp)==temp[0]):\n",
    "      max_index[i] = 0\n",
    "    elif(max(temp)==temp[1]):\n",
    "      max_index[i] = 1\n",
    "    elif(max(temp)==temp[2]):\n",
    "      max_index[i] = 2\n",
    "    elif(max(temp)==temp[3]):\n",
    "      max_index[i] = 3\n",
    "    elif(max(temp)==temp[4]):\n",
    "      max_index[i] = 4\n",
    "    elif(max(temp)==temp[5]):\n",
    "      max_index[i] = 5\n",
    "    else:\n",
    "      max_index[i] = 20\n",
    "      \n",
    "  for i in range(80):\n",
    "    if(max_index[i]==20):\n",
    "      if(max_index[i+1]==20):\n",
    "        edge_pattern[i]=0\n",
    "      else:\n",
    "        #edge_pattern[i]=5\n",
    "        edge_pattern[i]=0\n",
    "    elif(max_index[i+1]==20):\n",
    "      #edge_pattern[i]=5\n",
    "      edge_pattern[i]=0\n",
    "    else:\n",
    "      edge_pattern[i] = max_index[i]-max_index[i+1]\n",
    "        \n",
    "  return edge_pattern"
   ]
  },
  {
   "cell_type": "code",
   "execution_count": 7,
   "id": "e2a1898d",
   "metadata": {
    "ExecuteTime": {
     "end_time": "2023-03-20T05:28:41.195501Z",
     "start_time": "2023-03-20T05:28:41.190752Z"
    }
   },
   "outputs": [],
   "source": [
    "def dtw_distance(signal1, signal2):\n",
    "    # 시계열 데이터의 길이를 저장합니다.\n",
    "    n, m = len(signal1), len(signal2)\n",
    "    \n",
    "    # DTW 행렬을 생성합니다.\n",
    "    dtw = np.zeros((n+1, m+1))\n",
    "    for i in range(1, n+1):\n",
    "        dtw[i][0] = np.inf\n",
    "    for i in range(1, m+1):\n",
    "        dtw[0][i] = np.inf\n",
    "    dtw[0][0] = 0\n",
    "    \n",
    "    # DTW 행렬을 계산합니다.\n",
    "    for i in range(1, n+1):\n",
    "        for j in range(1, m+1):\n",
    "            cost = abs(signal1[i-1] - signal2[j-1])\n",
    "            dtw[i][j] = cost + min(dtw[i-1][j], dtw[i][j-1], dtw[i-1][j-1])\n",
    "    \n",
    "    # 최종적인 DTW 거리를 반환합니다.\n",
    "    return dtw[-1][-1]"
   ]
  },
  {
   "cell_type": "code",
   "execution_count": 8,
   "id": "f1e57d40",
   "metadata": {
    "ExecuteTime": {
     "end_time": "2023-03-20T05:28:41.868946Z",
     "start_time": "2023-03-20T05:28:41.852998Z"
    }
   },
   "outputs": [],
   "source": [
    "from random import *\n",
    "class chip_random:\n",
    "    def __init__(self, size, threshold1 = 0.9, threshold2 = 0.95):\n",
    "        '''\n",
    "        size = memory input size \n",
    "        threshold1 = don't care  역치 //  0.9\n",
    "        threshold2 = 1 역치 // 0.95\n",
    "        '''\n",
    "        self.size = size\n",
    "        self.threshold1 = threshold1\n",
    "        self.threshold2 = threshold2\n",
    "        self.cam = []\n",
    "        self.counter = []\n",
    "\n",
    "        for i in range(2**size-1):\n",
    "            a = randint(1,2**size-1)\n",
    "            while a in self.cam:\n",
    "                a = randint(1,2**size-1)\n",
    "            self.cam.append(a)\n",
    "            self.counter.append(0)\n",
    "\n",
    "    def reset(self):\n",
    "        self.cam = []\n",
    "        self.counter = []\n",
    "\n",
    "        for i in range(2**self.size-1):\n",
    "            a = randint(1,2**self.size-1)\n",
    "            while a in self.cam:\n",
    "                a = randint(1,2**self.size-1)\n",
    "            self.cam.append(a)\n",
    "            self.counter.append(0)\n",
    "\n",
    "    def pattern_to_number(self, pattern):\n",
    "        num = 0\n",
    "        result = []\n",
    "        for i in range(len(pattern)):\n",
    "            if pattern[i]==1:\n",
    "                num = num + 2**(len(pattern)-1-i)\n",
    "        result.append(num)\n",
    "        for i in range(len(pattern)):\n",
    "            if pattern[i]==0.5:\n",
    "                for k in range(len(result)):\n",
    "                    result.append(result[k]+2**(len(pattern)-1-i))\n",
    "    \n",
    "        return result\n",
    "\n",
    "    def change_threshold(self, threshold1, threshold2):\n",
    "        self.threshold1 = threshold1\n",
    "        self.threshold2 = threshold2\n",
    "\n",
    "    def learn(self, pattern):\n",
    "        num = self.pattern_to_number(pattern)\n",
    "        for i in range(len(self.cam)):\n",
    "            if num.count(self.cam[i])!=0:\n",
    "                self.counter[i] = self.counter[i] +1\n",
    "\n",
    "        for i in range(len(num)):\n",
    "            for j in range(len(self.cam)-1):\n",
    "                if self.counter[j] > self.counter[j+1]:\n",
    "                    temp =self.counter[j]\n",
    "                    self.counter[j] = self.counter[j+1]\n",
    "                    self.counter[j+1] = temp\n",
    "                    temp =self.cam[j]\n",
    "                    self.cam[j] = self.cam[j+1]\n",
    "                    self.cam[j+1] = temp\n",
    "    \n",
    "    def address_up(self, pattern):\n",
    "        num = self.pattern_to_number(pattern)\n",
    "        for i in range(len(self.cam)-2,0,-1):\n",
    "            if self.cam[i] in num:\n",
    "                temp = self.cam[i]\n",
    "                self.cam[i] = self.cam[i+1]\n",
    "                self.cam[i+1] = temp\n",
    "\n",
    "    def address_down(self, pattern):\n",
    "        num = self.pattern_to_number(pattern)\n",
    "        for i in range(len(self.cam)-2):\n",
    "            if self.cam[i] in num:\n",
    "                temp = self.cam[i]\n",
    "                self.cam[i] = self.cam[i-1]\n",
    "                self.cam[i-1] = temp\n",
    "\n",
    "\n",
    "    def get_address(self, pattern):\n",
    "        num = self.pattern_to_number(pattern)\n",
    "        result = []\n",
    "        for i in range(len(num)):\n",
    "            if num[i] ==0:\n",
    "                result.append(0)\n",
    "            else :\n",
    "                result.append(self.cam.index(num[i]))\n",
    "        return result\n",
    "  \n",
    "    def get_binary(self, pattern):\n",
    "        result = self.get_address(pattern)\n",
    "        address = max(result)\n",
    "        percent = address/len(self.cam)\n",
    "\n",
    "        if percent < self.threshold1 :\n",
    "            return 0.0\n",
    "        elif percent <self.threshold2:\n",
    "            return 0.5\n",
    "        else:\n",
    "            return 1.0"
   ]
  },
  {
   "cell_type": "code",
   "execution_count": 9,
   "id": "dffe32cc",
   "metadata": {
    "ExecuteTime": {
     "end_time": "2023-03-20T05:28:42.441145Z",
     "start_time": "2023-03-20T05:28:42.420924Z"
    }
   },
   "outputs": [],
   "source": [
    "class layer_random:\n",
    "    def __init__(self, window_size, layer_size, stride = 0, threshold1 = 0.9, threshold2 = 0.95):\n",
    "        self.L = [[0]*layer_size for _ in range(layer_size)]\n",
    "        self.threshold1 = threshold1\n",
    "        self.threshold2 = threshold2\n",
    "        for i in range(layer_size):\n",
    "            for j in range(layer_size):\n",
    "                self.L[i][j] = chip_random(window_size*window_size, self.threshold1, self.threshold2)\n",
    "        \n",
    "        if stride ==0:\n",
    "            self.stride = window_size\n",
    "        else :\n",
    "            self.stride = stride\n",
    "        self.window_size = window_size\n",
    "        self.layer_size = layer_size\n",
    "\n",
    "    def reset(self):\n",
    "        '''\n",
    "        layer가 초기화됨 내부 chip의 배열도 초기화\n",
    "        '''\n",
    "        for i in range(self.layer_size):\n",
    "            for j in range(self.layer_size):\n",
    "                self.L[i][j].reset()\n",
    "\n",
    "    def change_threshold(self, threshold1, threshold2):\n",
    "        self.threshold1 = threshold1\n",
    "        self.threshold2 = threshold2\n",
    "        for i in range(self.layer_size):\n",
    "            for j in range(self.layer_size):\n",
    "                self.L[i][j].change_threshold(threshold1, threshold2)\n",
    "\n",
    "    def learn(self, image):\n",
    "        '''\n",
    "        이미지 하나를 layer가 입력받게 되는 함수\n",
    "        '''\n",
    "        # 학습 가능한 이미지 사이즈인지 확인하는 코드 추가 작성\n",
    "        for i in range(self.layer_size):\n",
    "            for j in range(self.layer_size):\n",
    "                pattern= []\n",
    "                for a in range(self.window_size):\n",
    "                    for b in range(self.window_size):\n",
    "                        pattern.append(image[self.stride*i+a][self.stride*j+b])\n",
    "                self.L[i][j].learn(pattern)\n",
    "    \n",
    "    def address_up(self, image):\n",
    "        '''\n",
    "        이미지 안에 있는 패턴을 주소 1 up\n",
    "        '''\n",
    "        for i in range(self.layer_size):\n",
    "            for j in range(self.layer_size):\n",
    "                pattern = []\n",
    "                for a in range(self.window_size):\n",
    "                    for b in range(self.window_size):\n",
    "                        pattern.append(image[self.stride*i+a][self.stride*j+b])\n",
    "                self.L[i][j].address_up(pattern)\n",
    "            \n",
    "    def address_down(self, image):\n",
    "        '''\n",
    "        이미지 안에 있는 패턴을 주소 1 up\n",
    "        '''\n",
    "        for i in range(self.layer_size):\n",
    "            for j in range(self.layer_size):\n",
    "                pattern = []\n",
    "                for a in range(self.window_size):\n",
    "                    for b in range(self.window_size):\n",
    "                        pattern.append(image[self.stride*i+a][self.stride*j+b])\n",
    "                self.L[i][j].address_down(pattern)\n",
    "    \n",
    "    def out(self, image):\n",
    "        '''\n",
    "        이미지 넣고 출력되는 layer out 보여줌\n",
    "        '''\n",
    "        # 입력 가능한 이미지 사이즈인지 확인하는 코드 추가 작성\n",
    "        out_image = [[0] * self.layer_size for _ in range(self.layer_size)]\n",
    "        for i in range(self.layer_size):\n",
    "            for j in range(self.layer_size):\n",
    "                pattern=[]\n",
    "                for a in range(self.window_size):\n",
    "                    for b in range(self.window_size):\n",
    "                        pattern.append(image[self.stride*i +a][self.stride*j +b])\n",
    "                out_image[i][j] = self.L[i][j].get_binary(pattern)\n",
    "        return out_image\n",
    "\n",
    "    def out_sum(self, image):\n",
    "        '''\n",
    "        이미지 넣고 출력되는 이미지의 전체 합 출력\n",
    "        '''\n",
    "        out_image = self.out(image)\n",
    "        result = 0\n",
    "        for i in range(self.layer_size):\n",
    "            for j in range(self.layer_size):\n",
    "                result = result + out_image[i][j]\n",
    "        return result\n",
    "    \n",
    "    def weighted_outsum (self, image):\n",
    "        out_image = self.out(image)\n",
    "        result = 0\n",
    "        weight1 = 0\n",
    "        weight2 = 0\n",
    "        for i in range(self.layer_size):\n",
    "            for j in range(self.layer_size):\n",
    "                if (i>self.layer_size/3)*(i<2*self.layer_size/3) : weight1 = 2\n",
    "                else : weight1 = 1\n",
    "\n",
    "                if(j>self.layer_size/3)*(j<2*self.layer_size/3) : weight2 = 2\n",
    "                else : weight2 = 1\n",
    "\n",
    "                result = result + weight1 * weight2 * out_image[i][j]\n",
    "        return result\n",
    "\n",
    "    def out_address(self,image):\n",
    "        '''\n",
    "        마지막 레이어의 주소를 반환\n",
    "        '''\n",
    "        out_image = [[0] * self.layer_size for _ in range(self.layer_size)]\n",
    "        for i in range(self.layer_size):\n",
    "            for j in range(self.layer_size):\n",
    "                pattern=[]\n",
    "                for a in range(self.window_size):\n",
    "                    for b in range(self.window_size):\n",
    "                        pattern.append(image[self.stride*i +a][self.stride*j +b])\n",
    "                out_image[i][j] = max(self.L[i][j].get_address(pattern))\n",
    "        return out_image\n",
    "\n",
    "    def get_avg_address(self,image):\n",
    "        \n",
    "        out_image = self.out_address(image)\n",
    "        sum = 0\n",
    "        for i in range (self.layer_size):\n",
    "            for j in range(self.layer_size):\n",
    "                sum = sum + out_image[i][j]\n",
    "\n",
    "        return sum/(self.layer_size*self.layer_size)\n",
    "    \n",
    "    def num_to_pattern(self, num):\n",
    "        temp = num\n",
    "        pattern = [0 for _ in range(self.window_size*self.window_size)]\n",
    "        for i in range(len(pattern)):\n",
    "            if(num%2) : pattern[i] = 1\n",
    "            else : pattern[i] = 0\n",
    "            num = num//2\n",
    "        pattern.reverse()\n",
    "        return pattern\n",
    "\n",
    "    def feature(self, depth):\n",
    "        out_image = [[0] * self.layer_size *self.window_size for _ in range(self.layer_size*self.window_size)]\n",
    "        pattern = []\n",
    "        for i in range(self.layer_size):\n",
    "            for j in range(self.layer_size):\n",
    "                for k in range(depth):\n",
    "                    pattern = self.num_to_pattern(self.L[i][j].cam[-1-k])\n",
    "                    for a in range(self.window_size):\n",
    "                        for b in range(self.window_size):\n",
    "                            out_image[self.window_size*i + a ][self.window_size*j + b ] += pattern[self.window_size*a + b ] * 2**(depth -k-1)\n",
    "        \n",
    "        return out_image\n",
    "\n",
    "    def out_size(self):\n",
    "        '''\n",
    "        N*N 출력 이미지에서 N이 나옴 \n",
    "        '''\n",
    "        return self.layer_size"
   ]
  },
  {
   "cell_type": "code",
   "execution_count": 10,
   "id": "1fbc3b53",
   "metadata": {
    "ExecuteTime": {
     "end_time": "2023-03-20T05:29:28.539297Z",
     "start_time": "2023-03-20T05:28:43.203993Z"
    }
   },
   "outputs": [],
   "source": [
    "# test_images 를 모두 1차원 벡터화한다. \n",
    "test_images_flat = []\n",
    "temp_1 = [[],[],[],[],[],[]]\n",
    "temp_2 = [[] for _ in range(80)]\n",
    "\n",
    "for i in range(10000):\n",
    "    for j in range(6):\n",
    "        temp_1[j] = flattening(test_images[i],filters[j])\n",
    "    temp_2 = edge_pattern(temp_1)\n",
    "    test_images_flat.append(temp_2)"
   ]
  },
  {
   "cell_type": "code",
   "execution_count": 3,
   "id": "3fce216d",
   "metadata": {
    "ExecuteTime": {
     "end_time": "2023-03-20T05:28:29.839575Z",
     "start_time": "2023-03-20T05:28:29.334119Z"
    }
   },
   "outputs": [],
   "source": [
    "        \n",
    "train = [[],[],[],[],[],[],[],[],[],[]]\n",
    "for k in range(train_images.shape[0]):\n",
    "  if train_labels[k] ==0:\n",
    "    train[0].append(train_images[k])\n",
    "  elif train_labels[k] ==1:\n",
    "    train[1].append(train_images[k])\n",
    "  elif train_labels[k] ==2:\n",
    "    train[2].append(train_images[k])\n",
    "  elif train_labels[k] ==3:\n",
    "    train[3].append(train_images[k])\n",
    "  elif train_labels[k] ==4:\n",
    "    train[4].append(train_images[k])\n",
    "  elif train_labels[k] ==5:\n",
    "    train[5].append(train_images[k])\n",
    "  elif train_labels[k] ==6:\n",
    "    train[6].append(train_images[k])\n",
    "  elif train_labels[k] ==7:\n",
    "    train[7].append(train_images[k])\n",
    "  elif train_labels[k] ==8:\n",
    "    train[8].append(train_images[k])\n",
    "  elif train_labels[k] ==9:\n",
    "    train[9].append(train_images[k])\n",
    "  else:\n",
    "    train_images[k] = train_images[k]"
   ]
  },
  {
   "cell_type": "code",
   "execution_count": 12,
   "id": "cc98a598",
   "metadata": {
    "ExecuteTime": {
     "end_time": "2023-03-20T05:42:30.564821Z",
     "start_time": "2023-03-20T05:42:30.561121Z"
    }
   },
   "outputs": [],
   "source": [
    "import pandas as pd\n",
    "\n",
    "def df_maker(col_num, ind_num, fill):\n",
    "    col = []\n",
    "    ind = []\n",
    "    con = []\n",
    "    for i in range(0,col_num):\n",
    "        col.append(fill)\n",
    "    for i in range(0,ind_num):\n",
    "        ind.append(fill)\n",
    "    for i in range(0,ind_num):\n",
    "        con.append(col)\n",
    "    return pd.DataFrame(con, columns=col, index=ind)"
   ]
  },
  {
   "cell_type": "code",
   "execution_count": 16,
   "id": "31fd62e8",
   "metadata": {
    "ExecuteTime": {
     "end_time": "2023-03-20T05:44:59.707957Z",
     "start_time": "2023-03-20T05:44:59.697990Z"
    }
   },
   "outputs": [
    {
     "data": {
      "text/html": [
       "<div>\n",
       "<style scoped>\n",
       "    .dataframe tbody tr th:only-of-type {\n",
       "        vertical-align: middle;\n",
       "    }\n",
       "\n",
       "    .dataframe tbody tr th {\n",
       "        vertical-align: top;\n",
       "    }\n",
       "\n",
       "    .dataframe thead th {\n",
       "        text-align: right;\n",
       "    }\n",
       "</style>\n",
       "<table border=\"1\" class=\"dataframe\">\n",
       "  <thead>\n",
       "    <tr style=\"text-align: right;\">\n",
       "      <th></th>\n",
       "      <th>0</th>\n",
       "      <th>1</th>\n",
       "      <th>2</th>\n",
       "      <th>3</th>\n",
       "      <th>4</th>\n",
       "      <th>5</th>\n",
       "      <th>6</th>\n",
       "      <th>7</th>\n",
       "      <th>8</th>\n",
       "      <th>9</th>\n",
       "    </tr>\n",
       "  </thead>\n",
       "  <tbody>\n",
       "    <tr>\n",
       "      <th>0</th>\n",
       "      <td>0</td>\n",
       "      <td>0</td>\n",
       "      <td>0</td>\n",
       "      <td>0</td>\n",
       "      <td>0</td>\n",
       "      <td>0</td>\n",
       "      <td>0</td>\n",
       "      <td>0</td>\n",
       "      <td>0</td>\n",
       "      <td>0</td>\n",
       "    </tr>\n",
       "    <tr>\n",
       "      <th>1</th>\n",
       "      <td>0</td>\n",
       "      <td>0</td>\n",
       "      <td>0</td>\n",
       "      <td>0</td>\n",
       "      <td>0</td>\n",
       "      <td>0</td>\n",
       "      <td>0</td>\n",
       "      <td>0</td>\n",
       "      <td>0</td>\n",
       "      <td>0</td>\n",
       "    </tr>\n",
       "    <tr>\n",
       "      <th>2</th>\n",
       "      <td>0</td>\n",
       "      <td>0</td>\n",
       "      <td>0</td>\n",
       "      <td>0</td>\n",
       "      <td>0</td>\n",
       "      <td>0</td>\n",
       "      <td>0</td>\n",
       "      <td>0</td>\n",
       "      <td>0</td>\n",
       "      <td>0</td>\n",
       "    </tr>\n",
       "    <tr>\n",
       "      <th>3</th>\n",
       "      <td>0</td>\n",
       "      <td>0</td>\n",
       "      <td>0</td>\n",
       "      <td>0</td>\n",
       "      <td>0</td>\n",
       "      <td>0</td>\n",
       "      <td>0</td>\n",
       "      <td>0</td>\n",
       "      <td>0</td>\n",
       "      <td>0</td>\n",
       "    </tr>\n",
       "    <tr>\n",
       "      <th>4</th>\n",
       "      <td>0</td>\n",
       "      <td>0</td>\n",
       "      <td>0</td>\n",
       "      <td>0</td>\n",
       "      <td>0</td>\n",
       "      <td>0</td>\n",
       "      <td>0</td>\n",
       "      <td>0</td>\n",
       "      <td>0</td>\n",
       "      <td>0</td>\n",
       "    </tr>\n",
       "    <tr>\n",
       "      <th>5</th>\n",
       "      <td>0</td>\n",
       "      <td>0</td>\n",
       "      <td>0</td>\n",
       "      <td>0</td>\n",
       "      <td>0</td>\n",
       "      <td>0</td>\n",
       "      <td>0</td>\n",
       "      <td>0</td>\n",
       "      <td>0</td>\n",
       "      <td>0</td>\n",
       "    </tr>\n",
       "    <tr>\n",
       "      <th>6</th>\n",
       "      <td>0</td>\n",
       "      <td>0</td>\n",
       "      <td>0</td>\n",
       "      <td>0</td>\n",
       "      <td>0</td>\n",
       "      <td>0</td>\n",
       "      <td>0</td>\n",
       "      <td>0</td>\n",
       "      <td>0</td>\n",
       "      <td>0</td>\n",
       "    </tr>\n",
       "    <tr>\n",
       "      <th>7</th>\n",
       "      <td>0</td>\n",
       "      <td>0</td>\n",
       "      <td>0</td>\n",
       "      <td>0</td>\n",
       "      <td>0</td>\n",
       "      <td>0</td>\n",
       "      <td>0</td>\n",
       "      <td>0</td>\n",
       "      <td>0</td>\n",
       "      <td>0</td>\n",
       "    </tr>\n",
       "    <tr>\n",
       "      <th>8</th>\n",
       "      <td>0</td>\n",
       "      <td>0</td>\n",
       "      <td>0</td>\n",
       "      <td>0</td>\n",
       "      <td>0</td>\n",
       "      <td>0</td>\n",
       "      <td>0</td>\n",
       "      <td>0</td>\n",
       "      <td>0</td>\n",
       "      <td>0</td>\n",
       "    </tr>\n",
       "    <tr>\n",
       "      <th>9</th>\n",
       "      <td>0</td>\n",
       "      <td>0</td>\n",
       "      <td>0</td>\n",
       "      <td>0</td>\n",
       "      <td>0</td>\n",
       "      <td>0</td>\n",
       "      <td>0</td>\n",
       "      <td>0</td>\n",
       "      <td>0</td>\n",
       "      <td>0</td>\n",
       "    </tr>\n",
       "  </tbody>\n",
       "</table>\n",
       "</div>"
      ],
      "text/plain": [
       "   0  1  2  3  4  5  6  7  8  9\n",
       "0  0  0  0  0  0  0  0  0  0  0\n",
       "1  0  0  0  0  0  0  0  0  0  0\n",
       "2  0  0  0  0  0  0  0  0  0  0\n",
       "3  0  0  0  0  0  0  0  0  0  0\n",
       "4  0  0  0  0  0  0  0  0  0  0\n",
       "5  0  0  0  0  0  0  0  0  0  0\n",
       "6  0  0  0  0  0  0  0  0  0  0\n",
       "7  0  0  0  0  0  0  0  0  0  0\n",
       "8  0  0  0  0  0  0  0  0  0  0\n",
       "9  0  0  0  0  0  0  0  0  0  0"
      ]
     },
     "execution_count": 16,
     "metadata": {},
     "output_type": "execute_result"
    }
   ],
   "source": [
    "df = df_maker(10, 10, 0)\n",
    "col = [\"0\",\"1\",\"2\",\"3\",\"4\",\"5\",\"6\",\"7\",\"8\",\"9\"]\n",
    "ind = [0,1,2,3,4,5,6,7,8,9]\n",
    "df.columns = col\n",
    "df.index = ind\n",
    "\n",
    "df"
   ]
  },
  {
   "cell_type": "code",
   "execution_count": 60,
   "id": "8d284fc1",
   "metadata": {
    "ExecuteTime": {
     "end_time": "2023-03-20T06:15:03.291678Z",
     "start_time": "2023-03-20T06:15:03.288363Z"
    }
   },
   "outputs": [],
   "source": [
    "#flat_0 = [[0] for _ in range(10)]\n",
    "def flat_label(flat_label):\n",
    "  #flat_label = [[0] for _ in range(10)]\n",
    "  temp_1 = [[],[],[],[],[],[]]\n",
    "  temp_2 = [[] for _ in range(80)]\n",
    "\n",
    "  for i in range(10):\n",
    "      for j in range(6):\n",
    "          temp_1[j] = flattening(train[j][i],filters[j])\n",
    "      temp_2 = edge_pattern(temp_1)\n",
    "      flat_label[i].append(temp_2)\n",
    "  #return flat_label"
   ]
  },
  {
   "cell_type": "code",
   "execution_count": 61,
   "id": "36f19c78",
   "metadata": {
    "ExecuteTime": {
     "end_time": "2023-03-20T06:15:03.888733Z",
     "start_time": "2023-03-20T06:15:03.837354Z"
    }
   },
   "outputs": [],
   "source": [
    "#flat_label_ex = [[0] for _ in range(10)]\n",
    "flat_label_ex = [[] for _ in range(10)]\n",
    "flat_label(flat_label_ex)"
   ]
  },
  {
   "cell_type": "code",
   "execution_count": 62,
   "id": "711c784e",
   "metadata": {
    "ExecuteTime": {
     "end_time": "2023-03-20T06:15:04.402003Z",
     "start_time": "2023-03-20T06:15:04.399290Z"
    }
   },
   "outputs": [
    {
     "name": "stdout",
     "output_type": "stream",
     "text": [
      "[0, 0, 0, 0, 0, 0, 0, 0, 0, 0, 0, 0, 0, 0, 0, 0, 0, 0, 0, -1, 2, 0, 0, 0, 0, 0, 0, 0, -2, -1, 3, 2, 0, 0, 0, 0, 0, 0, 0, -1, 2, 2, 0, 0, 0, 0, 0, 0, 0, 0, 3, 0, 0, 0, 0, -2, 0, 1, 4, 0, 0, 0, 0, 0, 3, 0, 0, 0, -2, 0, 0, 0, 0, 0, 0, 0, 0, 0, 0, 0]\n"
     ]
    }
   ],
   "source": [
    "print(flat_label_ex[3][0])"
   ]
  },
  {
   "cell_type": "code",
   "execution_count": 63,
   "id": "c59bfd8f",
   "metadata": {
    "ExecuteTime": {
     "end_time": "2023-03-20T06:15:14.434267Z",
     "start_time": "2023-03-20T06:15:14.431648Z"
    }
   },
   "outputs": [
    {
     "name": "stdout",
     "output_type": "stream",
     "text": [
      "80\n"
     ]
    }
   ],
   "source": [
    "print(len(flat_label_ex[1][0]))"
   ]
  },
  {
   "cell_type": "code",
   "execution_count": 81,
   "id": "9d8b07eb",
   "metadata": {
    "ExecuteTime": {
     "end_time": "2023-03-20T06:26:38.444673Z",
     "start_time": "2023-03-20T06:26:38.441582Z"
    }
   },
   "outputs": [],
   "source": [
    "def dtw_distance_table(flat):\n",
    "  distance_sum = 0\n",
    "  \n",
    "  for i in range(10):\n",
    "    distance_sum = 0\n",
    "    for j in range(10):\n",
    "      distance_sum += dtw_distance(flat_label_ex[i][0],flat_label_ex[j][0])\n",
    "    flat[i] = distance_sum/10"
   ]
  },
  {
   "cell_type": "code",
   "execution_count": 82,
   "id": "d7939ad9",
   "metadata": {
    "ExecuteTime": {
     "end_time": "2023-03-20T06:26:39.696032Z",
     "start_time": "2023-03-20T06:26:38.800424Z"
    }
   },
   "outputs": [],
   "source": [
    "flat_final = [[0] for _ in range(10)]\n",
    "dtw_distance_table(flat_final)"
   ]
  },
  {
   "cell_type": "code",
   "execution_count": 83,
   "id": "4e690383",
   "metadata": {
    "ExecuteTime": {
     "end_time": "2023-03-20T06:26:41.882822Z",
     "start_time": "2023-03-20T06:26:41.879934Z"
    }
   },
   "outputs": [
    {
     "name": "stdout",
     "output_type": "stream",
     "text": [
      "26.9\n",
      "25.0\n",
      "25.2\n",
      "26.0\n",
      "25.5\n",
      "33.5\n",
      "30.4\n",
      "32.8\n",
      "26.9\n",
      "25.6\n"
     ]
    }
   ],
   "source": [
    "for i in range(10):\n",
    "  #for j in range(10): \n",
    "    print(flat_final[i])"
   ]
  },
  {
   "cell_type": "code",
   "execution_count": null,
   "id": "923d1cd3",
   "metadata": {},
   "outputs": [],
   "source": []
  }
 ],
 "metadata": {
  "kernelspec": {
   "display_name": "Python 3 (ipykernel)",
   "language": "python",
   "name": "python3"
  },
  "language_info": {
   "codemirror_mode": {
    "name": "ipython",
    "version": 3
   },
   "file_extension": ".py",
   "mimetype": "text/x-python",
   "name": "python",
   "nbconvert_exporter": "python",
   "pygments_lexer": "ipython3",
   "version": "3.9.15"
  },
  "toc": {
   "base_numbering": 1,
   "nav_menu": {},
   "number_sections": true,
   "sideBar": true,
   "skip_h1_title": false,
   "title_cell": "Table of Contents",
   "title_sidebar": "Contents",
   "toc_cell": false,
   "toc_position": {},
   "toc_section_display": true,
   "toc_window_display": false
  },
  "varInspector": {
   "cols": {
    "lenName": 16,
    "lenType": 16,
    "lenVar": 40
   },
   "kernels_config": {
    "python": {
     "delete_cmd_postfix": "",
     "delete_cmd_prefix": "del ",
     "library": "var_list.py",
     "varRefreshCmd": "print(var_dic_list())"
    },
    "r": {
     "delete_cmd_postfix": ") ",
     "delete_cmd_prefix": "rm(",
     "library": "var_list.r",
     "varRefreshCmd": "cat(var_dic_list()) "
    }
   },
   "types_to_exclude": [
    "module",
    "function",
    "builtin_function_or_method",
    "instance",
    "_Feature"
   ],
   "window_display": false
  }
 },
 "nbformat": 4,
 "nbformat_minor": 5
}
